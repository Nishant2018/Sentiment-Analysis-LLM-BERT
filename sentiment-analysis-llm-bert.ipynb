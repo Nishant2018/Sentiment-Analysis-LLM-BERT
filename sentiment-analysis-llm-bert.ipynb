{
 "cells": [
  {
   "cell_type": "markdown",
   "id": "8f3d75e9",
   "metadata": {
    "papermill": {
     "duration": 0.014643,
     "end_time": "2024-03-23T04:44:22.699201",
     "exception": false,
     "start_time": "2024-03-23T04:44:22.684558",
     "status": "completed"
    },
    "tags": []
   },
   "source": [
    "\n",
    "\n",
    "<div style=\"color:white; background-color:#5642C5; padding: 10px; border-radius: 15px; font-size: 150%; font-family: Verdana; text-align:center; -webkit-text-stroke-width: 1px; -webkit-text-stroke-color: black; text-shadow: 2px 2px 4px rgba(0, 0, 0, 0.7);\">\n",
    "    Sentiment Analysis || BERT || Transformers\n",
    "</div>\n"
   ]
  },
  {
   "cell_type": "markdown",
   "id": "3908954f",
   "metadata": {
    "papermill": {
     "duration": 0.012706,
     "end_time": "2024-03-23T04:44:22.725727",
     "exception": false,
     "start_time": "2024-03-23T04:44:22.713021",
     "status": "completed"
    },
    "tags": []
   },
   "source": [
    "![](https://calln.com/wp-content/uploads/2019/10/Sentiment-Analysis-Infographic-860x600-860x600.png)"
   ]
  },
  {
   "cell_type": "markdown",
   "id": "169fb521",
   "metadata": {
    "papermill": {
     "duration": 0.013367,
     "end_time": "2024-03-23T04:44:22.752564",
     "exception": false,
     "start_time": "2024-03-23T04:44:22.739197",
     "status": "completed"
    },
    "tags": []
   },
   "source": [
    "\n",
    "- Sentiment analysis, also known as opinion mining, is a process that involves analyzing text to determine the sentiment expressed, such as positive, negative, or neutral.\n",
    "  \n",
    "- It uses natural language processing (NLP) and machine learning techniques to understand the emotions, opinions, and attitudes conveyed in textual data.\n",
    "\n",
    "- The goal of sentiment analysis is to extract subjective information from text, allowing businesses and organizations to gain insights into public opinion, customer feedback, social media trends, and more.\n",
    "\n",
    "- Sentiment analysis has widespread applications in various fields, including marketing, customer service, social media monitoring, market research, and product development.\n",
    "\n",
    "- Businesses use sentiment analysis to analyze customer reviews, social media posts, surveys, and other forms of textual data to understand customer sentiment, identify trends, and make data-driven decisions.\n",
    "\n",
    "- Sentiment analysis algorithms classify text into categories such as positive, negative, or neutral based on the words, phrases, and context used in the text.\n",
    "\n",
    "- Sentiment analysis can be performed at different levels, including document-level (analyzing entire documents), sentence-level (analyzing individual sentences), and aspect-level (analyzing specific aspects or features mentioned in the text).\n",
    "\n",
    "Overall, sentiment analysis helps businesses and organizations better understand and respond to customer sentiment, improve products and services, and enhance overall customer satisfaction."
   ]
  },
  {
   "cell_type": "markdown",
   "id": "a88f3c55",
   "metadata": {
    "papermill": {
     "duration": 0.013295,
     "end_time": "2024-03-23T04:44:22.779396",
     "exception": false,
     "start_time": "2024-03-23T04:44:22.766101",
     "status": "completed"
    },
    "tags": []
   },
   "source": [
    "<div style=\"color:white; background-color:#5642C5; padding: 10px; border-radius: 15px; font-size: 150%; font-family: Verdana; text-align:center; -webkit-text-stroke-width: 1px; -webkit-text-stroke-color: black; text-shadow: 2px 2px 4px rgba(0, 0, 0, 0.7);\">\n",
    "   RNN || TRANSFORMERS || BERT\n",
    "</div>\n"
   ]
  },
  {
   "cell_type": "markdown",
   "id": "0e73c822",
   "metadata": {
    "papermill": {
     "duration": 0.013605,
     "end_time": "2024-03-23T04:44:22.807029",
     "exception": false,
     "start_time": "2024-03-23T04:44:22.793424",
     "status": "completed"
    },
    "tags": []
   },
   "source": [
    "![](https://publish-01.obsidian.md/access/fc5a2dd092cb06eefdd04ff307334d7a/_attachments/BERT%20Architecture.png)"
   ]
  },
  {
   "cell_type": "markdown",
   "id": "adc66b22",
   "metadata": {
    "papermill": {
     "duration": 0.013443,
     "end_time": "2024-03-23T04:44:22.834586",
     "exception": false,
     "start_time": "2024-03-23T04:44:22.821143",
     "status": "completed"
    },
    "tags": []
   },
   "source": [
    "BERT (Bidirectional Encoder Representations from Transformers) is a powerful pre-trained language model developed by Google AI, specifically designed for natural language processing (NLP) tasks. Here are some key points about BERT:\n",
    "\n",
    "- **Bidirectional Encoding:** BERT is bidirectional, meaning it can understand the context of a word based on both the words that come before and after it in a sentence. This bidirectional approach helps capture deeper contextual meanings and nuances in text.\n",
    "\n",
    "- **Transformer Architecture:** BERT is based on the Transformer architecture, which uses self-attention mechanisms to weigh the importance of different words in a sentence. This architecture allows BERT to efficiently process and understand long-range dependencies in text.\n",
    "\n",
    "- **Pre-trained Model:** BERT is pre-trained on a large corpus of text data, such as Wikipedia articles and books. During pre-training, BERT learns rich word embeddings and contextual representations, which are then fine-tuned for specific downstream NLP tasks.\n",
    "\n",
    "- **Fine-tuning:** After pre-training, BERT can be fine-tuned on smaller datasets for various NLP tasks such as text classification, named entity recognition, question answering, sentiment analysis, and more. Fine-tuning involves adapting BERT's pre-trained parameters to the specific task at hand, improving its performance and accuracy.\n",
    "\n",
    "- **Contextual Word Embeddings:** BERT generates contextual word embeddings, which means that the meaning of a word can vary based on its context within a sentence. This allows BERT to capture polysemy (multiple meanings of words) and disambiguate words based on their surrounding context.\n",
    "\n",
    "- **State-of-the-Art Performance:** BERT has achieved state-of-the-art performance on a wide range of NLP benchmarks and tasks, surpassing previous models in accuracy and efficiency. Its ability to capture complex linguistic patterns and semantic relationships makes it a popular choice for NLP researchers and practitioners.\n",
    "\n",
    "- **Open-Source Implementation:** BERT is available as an open-source implementation, allowing developers and researchers to use, modify, and fine-tune the model for their specific applications. This accessibility has contributed to its widespread adoption and impact in the NLP community.\n",
    "\n",
    "Overall, BERT has revolutionized the field of NLP by introducing advanced techniques for contextual understanding of text, leading to significant advancements in various NLP applications and tasks."
   ]
  },
  {
   "cell_type": "markdown",
   "id": "521daf40",
   "metadata": {
    "papermill": {
     "duration": 0.014975,
     "end_time": "2024-03-23T04:44:22.863349",
     "exception": false,
     "start_time": "2024-03-23T04:44:22.848374",
     "status": "completed"
    },
    "tags": []
   },
   "source": [
    "<div style=\"color:white; background-color:#5642C5; padding: 10px; border-radius: 15px; font-size: 150%; font-family: Verdana; text-align:center; -webkit-text-stroke-width: 1px; -webkit-text-stroke-color: black; text-shadow: 2px 2px 4px rgba(0, 0, 0, 0.7);\">\n",
    "   IMPORTING LIBRARY\n",
    "</div>\n"
   ]
  },
  {
   "cell_type": "code",
   "execution_count": 1,
   "id": "0776b32f",
   "metadata": {
    "_cell_guid": "b1076dfc-b9ad-4769-8c92-a6c4dae69d19",
    "_uuid": "8f2839f25d086af736a60e9eeb907d3b93b6e0e5",
    "execution": {
     "iopub.execute_input": "2024-03-23T04:44:22.891507Z",
     "iopub.status.busy": "2024-03-23T04:44:22.890793Z",
     "iopub.status.idle": "2024-03-23T04:44:32.477537Z",
     "shell.execute_reply": "2024-03-23T04:44:32.476196Z"
    },
    "papermill": {
     "duration": 9.603225,
     "end_time": "2024-03-23T04:44:32.479895",
     "exception": false,
     "start_time": "2024-03-23T04:44:22.876670",
     "status": "completed"
    },
    "tags": []
   },
   "outputs": [
    {
     "name": "stdout",
     "output_type": "stream",
     "text": [
      "/kaggle/input/bert-sentiment-analysis/Sentiment Analysis.csv\n"
     ]
    }
   ],
   "source": [
    "import numpy as np \n",
    "import pandas as pd \n",
    "#for pytorch\n",
    "import torch\n",
    "import torch.nn as nn\n",
    "device = torch.device(\"cuda\")\n",
    "\n",
    "#for BERT\n",
    "import transformers\n",
    "from transformers import AutoModel, BertTokenizerFast\n",
    "from sklearn.model_selection import train_test_split\n",
    "from torch.utils.data import TensorDataset, DataLoader, RandomSampler, SequentialSampler\n",
    "# optimizer from hugging face transformers\n",
    "from transformers import AdamW\n",
    "import os\n",
    "for dirname, _, filenames in os.walk('/kaggle/input'):\n",
    "    for filename in filenames:\n",
    "        print(os.path.join(dirname, filename))"
   ]
  },
  {
   "cell_type": "markdown",
   "id": "35b8b81a",
   "metadata": {
    "papermill": {
     "duration": 0.01444,
     "end_time": "2024-03-23T04:44:32.509225",
     "exception": false,
     "start_time": "2024-03-23T04:44:32.494785",
     "status": "completed"
    },
    "tags": []
   },
   "source": [
    "<div style=\"color:white; background-color:#5642C5; padding: 10px; border-radius: 15px; font-size: 150%; font-family: Verdana; text-align:center; -webkit-text-stroke-width: 1px; -webkit-text-stroke-color: black; text-shadow: 2px 2px 4px rgba(0, 0, 0, 0.7);\">\n",
    "   Reading The Data\n",
    "</div>\n"
   ]
  },
  {
   "cell_type": "code",
   "execution_count": 2,
   "id": "567c2ef9",
   "metadata": {
    "execution": {
     "iopub.execute_input": "2024-03-23T04:44:32.540179Z",
     "iopub.status.busy": "2024-03-23T04:44:32.539673Z",
     "iopub.status.idle": "2024-03-23T04:44:32.568728Z",
     "shell.execute_reply": "2024-03-23T04:44:32.567871Z"
    },
    "papermill": {
     "duration": 0.0472,
     "end_time": "2024-03-23T04:44:32.570886",
     "exception": false,
     "start_time": "2024-03-23T04:44:32.523686",
     "status": "completed"
    },
    "tags": []
   },
   "outputs": [],
   "source": [
    "df=pd.read_csv('/kaggle/input/bert-sentiment-analysis/Sentiment Analysis.csv')"
   ]
  },
  {
   "cell_type": "markdown",
   "id": "85f13bfe",
   "metadata": {
    "papermill": {
     "duration": 0.014286,
     "end_time": "2024-03-23T04:44:32.599894",
     "exception": false,
     "start_time": "2024-03-23T04:44:32.585608",
     "status": "completed"
    },
    "tags": []
   },
   "source": [
    "<div style=\"color:white; background-color:#5642C5; padding: 10px; border-radius: 15px; font-size: 150%; font-family: Verdana; text-align:center; -webkit-text-stroke-width: 1px; -webkit-text-stroke-color: black; text-shadow: 2px 2px 4px rgba(0, 0, 0, 0.7);\">\n",
    "   Sample Of Data\n",
    "</div>\n"
   ]
  },
  {
   "cell_type": "code",
   "execution_count": 3,
   "id": "2190a8a3",
   "metadata": {
    "execution": {
     "iopub.execute_input": "2024-03-23T04:44:32.628949Z",
     "iopub.status.busy": "2024-03-23T04:44:32.628637Z",
     "iopub.status.idle": "2024-03-23T04:44:32.648887Z",
     "shell.execute_reply": "2024-03-23T04:44:32.648017Z"
    },
    "papermill": {
     "duration": 0.037332,
     "end_time": "2024-03-23T04:44:32.651173",
     "exception": false,
     "start_time": "2024-03-23T04:44:32.613841",
     "status": "completed"
    },
    "tags": []
   },
   "outputs": [
    {
     "data": {
      "text/html": [
       "<div>\n",
       "<style scoped>\n",
       "    .dataframe tbody tr th:only-of-type {\n",
       "        vertical-align: middle;\n",
       "    }\n",
       "\n",
       "    .dataframe tbody tr th {\n",
       "        vertical-align: top;\n",
       "    }\n",
       "\n",
       "    .dataframe thead th {\n",
       "        text-align: right;\n",
       "    }\n",
       "</style>\n",
       "<table border=\"1\" class=\"dataframe\">\n",
       "  <thead>\n",
       "    <tr style=\"text-align: right;\">\n",
       "      <th></th>\n",
       "      <th>sentence</th>\n",
       "      <th>label</th>\n",
       "    </tr>\n",
       "  </thead>\n",
       "  <tbody>\n",
       "    <tr>\n",
       "      <th>0</th>\n",
       "      <td>Ok brokeback mountain is such a horrible movie.</td>\n",
       "      <td>0</td>\n",
       "    </tr>\n",
       "    <tr>\n",
       "      <th>1</th>\n",
       "      <td>Brokeback Mountain was so awesome.</td>\n",
       "      <td>1</td>\n",
       "    </tr>\n",
       "    <tr>\n",
       "      <th>2</th>\n",
       "      <td>friday hung out with kelsie and we went and sa...</td>\n",
       "      <td>0</td>\n",
       "    </tr>\n",
       "    <tr>\n",
       "      <th>3</th>\n",
       "      <td>I am going to start reading the Harry Potter s...</td>\n",
       "      <td>1</td>\n",
       "    </tr>\n",
       "    <tr>\n",
       "      <th>4</th>\n",
       "      <td>Is it just me, or does Harry Potter suck?...</td>\n",
       "      <td>0</td>\n",
       "    </tr>\n",
       "  </tbody>\n",
       "</table>\n",
       "</div>"
      ],
      "text/plain": [
       "                                            sentence  label\n",
       "0    Ok brokeback mountain is such a horrible movie.      0\n",
       "1                 Brokeback Mountain was so awesome.      1\n",
       "2  friday hung out with kelsie and we went and sa...      0\n",
       "3  I am going to start reading the Harry Potter s...      1\n",
       "4       Is it just me, or does Harry Potter suck?...      0"
      ]
     },
     "execution_count": 3,
     "metadata": {},
     "output_type": "execute_result"
    }
   ],
   "source": [
    "df.head()"
   ]
  },
  {
   "cell_type": "markdown",
   "id": "e9969683",
   "metadata": {
    "papermill": {
     "duration": 0.014318,
     "end_time": "2024-03-23T04:44:32.680704",
     "exception": false,
     "start_time": "2024-03-23T04:44:32.666386",
     "status": "completed"
    },
    "tags": []
   },
   "source": [
    "<div style=\"color:white; background-color:#5642C5; padding: 10px; border-radius: 15px; font-size: 150%; font-family: Verdana; text-align:center; -webkit-text-stroke-width: 1px; -webkit-text-stroke-color: black; text-shadow: 2px 2px 4px rgba(0, 0, 0, 0.7);\">\n",
    "   Data describe\n",
    "</div>\n"
   ]
  },
  {
   "cell_type": "code",
   "execution_count": 4,
   "id": "5a8b25f0",
   "metadata": {
    "execution": {
     "iopub.execute_input": "2024-03-23T04:44:32.712727Z",
     "iopub.status.busy": "2024-03-23T04:44:32.712355Z",
     "iopub.status.idle": "2024-03-23T04:44:32.733902Z",
     "shell.execute_reply": "2024-03-23T04:44:32.732919Z"
    },
    "papermill": {
     "duration": 0.041018,
     "end_time": "2024-03-23T04:44:32.736092",
     "exception": false,
     "start_time": "2024-03-23T04:44:32.695074",
     "status": "completed"
    },
    "tags": []
   },
   "outputs": [
    {
     "data": {
      "text/html": [
       "<div>\n",
       "<style scoped>\n",
       "    .dataframe tbody tr th:only-of-type {\n",
       "        vertical-align: middle;\n",
       "    }\n",
       "\n",
       "    .dataframe tbody tr th {\n",
       "        vertical-align: top;\n",
       "    }\n",
       "\n",
       "    .dataframe thead th {\n",
       "        text-align: right;\n",
       "    }\n",
       "</style>\n",
       "<table border=\"1\" class=\"dataframe\">\n",
       "  <thead>\n",
       "    <tr style=\"text-align: right;\">\n",
       "      <th></th>\n",
       "      <th>label</th>\n",
       "    </tr>\n",
       "  </thead>\n",
       "  <tbody>\n",
       "    <tr>\n",
       "      <th>count</th>\n",
       "      <td>5668.000000</td>\n",
       "    </tr>\n",
       "    <tr>\n",
       "      <th>mean</th>\n",
       "      <td>0.565279</td>\n",
       "    </tr>\n",
       "    <tr>\n",
       "      <th>std</th>\n",
       "      <td>0.495764</td>\n",
       "    </tr>\n",
       "    <tr>\n",
       "      <th>min</th>\n",
       "      <td>0.000000</td>\n",
       "    </tr>\n",
       "    <tr>\n",
       "      <th>25%</th>\n",
       "      <td>0.000000</td>\n",
       "    </tr>\n",
       "    <tr>\n",
       "      <th>50%</th>\n",
       "      <td>1.000000</td>\n",
       "    </tr>\n",
       "    <tr>\n",
       "      <th>75%</th>\n",
       "      <td>1.000000</td>\n",
       "    </tr>\n",
       "    <tr>\n",
       "      <th>max</th>\n",
       "      <td>1.000000</td>\n",
       "    </tr>\n",
       "  </tbody>\n",
       "</table>\n",
       "</div>"
      ],
      "text/plain": [
       "             label\n",
       "count  5668.000000\n",
       "mean      0.565279\n",
       "std       0.495764\n",
       "min       0.000000\n",
       "25%       0.000000\n",
       "50%       1.000000\n",
       "75%       1.000000\n",
       "max       1.000000"
      ]
     },
     "execution_count": 4,
     "metadata": {},
     "output_type": "execute_result"
    }
   ],
   "source": [
    "df.describe()"
   ]
  },
  {
   "cell_type": "code",
   "execution_count": 5,
   "id": "677c66e2",
   "metadata": {
    "execution": {
     "iopub.execute_input": "2024-03-23T04:44:32.766785Z",
     "iopub.status.busy": "2024-03-23T04:44:32.766481Z",
     "iopub.status.idle": "2024-03-23T04:44:32.776409Z",
     "shell.execute_reply": "2024-03-23T04:44:32.775545Z"
    },
    "papermill": {
     "duration": 0.02755,
     "end_time": "2024-03-23T04:44:32.778476",
     "exception": false,
     "start_time": "2024-03-23T04:44:32.750926",
     "status": "completed"
    },
    "tags": []
   },
   "outputs": [],
   "source": [
    "lens=[len(i.split()) for i in df.sentence]"
   ]
  },
  {
   "cell_type": "code",
   "execution_count": 6,
   "id": "5c06cd0a",
   "metadata": {
    "execution": {
     "iopub.execute_input": "2024-03-23T04:44:32.809386Z",
     "iopub.status.busy": "2024-03-23T04:44:32.809090Z",
     "iopub.status.idle": "2024-03-23T04:44:33.157159Z",
     "shell.execute_reply": "2024-03-23T04:44:33.156224Z"
    },
    "papermill": {
     "duration": 0.365837,
     "end_time": "2024-03-23T04:44:33.159341",
     "exception": false,
     "start_time": "2024-03-23T04:44:32.793504",
     "status": "completed"
    },
    "tags": []
   },
   "outputs": [
    {
     "data": {
      "text/plain": [
       "(array([2113., 1092.,  912.,  692.,  276.,  253.,  155.,   29.,  142.,\n",
       "           4.]),\n",
       " array([ 3. ,  6.7, 10.4, 14.1, 17.8, 21.5, 25.2, 28.9, 32.6, 36.3, 40. ]),\n",
       " <BarContainer object of 10 artists>)"
      ]
     },
     "execution_count": 6,
     "metadata": {},
     "output_type": "execute_result"
    },
    {
     "data": {
      "image/png": "[encoded data removed]",
      "text/plain": [
       "<Figure size 640x480 with 1 Axes>"
      ]
     },
     "metadata": {},
     "output_type": "display_data"
    }
   ],
   "source": [
    "import matplotlib.pyplot as plt\n",
    "plt.hist(lens)"
   ]
  },
  {
   "cell_type": "markdown",
   "id": "228acd24",
   "metadata": {
    "papermill": {
     "duration": 0.014624,
     "end_time": "2024-03-23T04:44:33.188784",
     "exception": false,
     "start_time": "2024-03-23T04:44:33.174160",
     "status": "completed"
    },
    "tags": []
   },
   "source": [
    "<div style=\"color:white; background-color:#5642C5; padding: 10px; border-radius: 15px; font-size: 150%; font-family: Verdana; text-align:center; -webkit-text-stroke-width: 1px; -webkit-text-stroke-color: black; text-shadow: 2px 2px 4px rgba(0, 0, 0, 0.7);\">\n",
    "   Installing Transformers\n",
    "</div>\n"
   ]
  },
  {
   "cell_type": "code",
   "execution_count": 7,
   "id": "b0890388",
   "metadata": {
    "execution": {
     "iopub.execute_input": "2024-03-23T04:44:33.219521Z",
     "iopub.status.busy": "2024-03-23T04:44:33.219196Z",
     "iopub.status.idle": "2024-03-23T04:44:47.466519Z",
     "shell.execute_reply": "2024-03-23T04:44:47.465480Z"
    },
    "papermill": {
     "duration": 14.265637,
     "end_time": "2024-03-23T04:44:47.469364",
     "exception": false,
     "start_time": "2024-03-23T04:44:33.203727",
     "status": "completed"
    },
    "tags": []
   },
   "outputs": [
    {
     "name": "stdout",
     "output_type": "stream",
     "text": [
      "Requirement already satisfied: transformers in /opt/conda/lib/python3.10/site-packages (4.38.2)\r\n",
      "Requirement already satisfied: filelock in /opt/conda/lib/python3.10/site-packages (from transformers) (3.13.1)\r\n",
      "Requirement already satisfied: huggingface-hub<1.0,>=0.19.3 in /opt/conda/lib/python3.10/site-packages (from transformers) (0.21.4)\r\n",
      "Requirement already satisfied: numpy>=1.17 in /opt/conda/lib/python3.10/site-packages (from transformers) (1.26.4)\r\n",
      "Requirement already satisfied: packaging>=20.0 in /opt/conda/lib/python3.10/site-packages (from transformers) (21.3)\r\n",
      "Requirement already satisfied: pyyaml>=5.1 in /opt/conda/lib/python3.10/site-packages (from transformers) (6.0.1)\r\n",
      "Requirement already satisfied: regex!=2019.12.17 in /opt/conda/lib/python3.10/site-packages (from transformers) (2023.12.25)\r\n",
      "Requirement already satisfied: requests in /opt/conda/lib/python3.10/site-packages (from transformers) (2.31.0)\r\n",
      "Requirement already satisfied: tokenizers<0.19,>=0.14 in /opt/conda/lib/python3.10/site-packages (from transformers) (0.15.2)\r\n",
      "Requirement already satisfied: safetensors>=0.4.1 in /opt/conda/lib/python3.10/site-packages (from transformers) (0.4.2)\r\n",
      "Requirement already satisfied: tqdm>=4.27 in /opt/conda/lib/python3.10/site-packages (from transformers) (4.66.1)\r\n",
      "Requirement already satisfied: fsspec>=2023.5.0 in /opt/conda/lib/python3.10/site-packages (from huggingface-hub<1.0,>=0.19.3->transformers) (2024.3.0)\r\n",
      "Requirement already satisfied: typing-extensions>=3.7.4.3 in /opt/conda/lib/python3.10/site-packages (from huggingface-hub<1.0,>=0.19.3->transformers) (4.9.0)\r\n",
      "Requirement already satisfied: pyparsing!=3.0.5,>=2.0.2 in /opt/conda/lib/python3.10/site-packages (from packaging>=20.0->transformers) (3.1.1)\r\n",
      "Requirement already satisfied: charset-normalizer<4,>=2 in /opt/conda/lib/python3.10/site-packages (from requests->transformers) (3.3.2)\r\n",
      "Requirement already satisfied: idna<4,>=2.5 in /opt/conda/lib/python3.10/site-packages (from requests->transformers) (3.6)\r\n",
      "Requirement already satisfied: urllib3<3,>=1.21.1 in /opt/conda/lib/python3.10/site-packages (from requests->transformers) (1.26.18)\r\n",
      "Requirement already satisfied: certifi>=2017.4.17 in /opt/conda/lib/python3.10/site-packages (from requests->transformers) (2024.2.2)\r\n"
     ]
    }
   ],
   "source": [
    "!pip install transformers"
   ]
  },
  {
   "cell_type": "markdown",
   "id": "4a63b205",
   "metadata": {
    "papermill": {
     "duration": 0.014781,
     "end_time": "2024-03-23T04:44:47.499625",
     "exception": false,
     "start_time": "2024-03-23T04:44:47.484844",
     "status": "completed"
    },
    "tags": []
   },
   "source": [
    "<div style=\"color:white; background-color:#5642C5; padding: 10px; border-radius: 15px; font-size: 150%; font-family: Verdana; text-align:center; -webkit-text-stroke-width: 1px; -webkit-text-stroke-color: black; text-shadow: 2px 2px 4px rgba(0, 0, 0, 0.7);\">\n",
    "   Train-Test-Split\n",
    "</div>\n"
   ]
  },
  {
   "cell_type": "code",
   "execution_count": 8,
   "id": "5c640944",
   "metadata": {
    "execution": {
     "iopub.execute_input": "2024-03-23T04:44:47.532085Z",
     "iopub.status.busy": "2024-03-23T04:44:47.531676Z",
     "iopub.status.idle": "2024-03-23T04:44:47.552163Z",
     "shell.execute_reply": "2024-03-23T04:44:47.551270Z"
    },
    "papermill": {
     "duration": 0.039773,
     "end_time": "2024-03-23T04:44:47.554353",
     "exception": false,
     "start_time": "2024-03-23T04:44:47.514580",
     "status": "completed"
    },
    "tags": []
   },
   "outputs": [],
   "source": [
    "# split into train, validation and test sets in the ration 70 : 15 : 15\n",
    "train_text, temp_text, train_labels, temp_labels = train_test_split(df['sentence'], df['label'], \n",
    "                                                                    random_state=2021, \n",
    "                                                                    test_size=0.3, \n",
    "                                                                    stratify=df['label'])\n",
    "\n",
    "\n",
    "val_text, test_text, val_labels, test_labels = train_test_split(temp_text, temp_labels, \n",
    "                                                                random_state=2021, \n",
    "                                                                test_size=0.5, \n",
    "                                                                stratify=temp_labels)"
   ]
  },
  {
   "cell_type": "markdown",
   "id": "4f984b04",
   "metadata": {
    "papermill": {
     "duration": 0.01461,
     "end_time": "2024-03-23T04:44:47.584222",
     "exception": false,
     "start_time": "2024-03-23T04:44:47.569612",
     "status": "completed"
    },
    "tags": []
   },
   "source": [
    "<div style=\"color:white; background-color:#5642C5; padding: 10px; border-radius: 15px; font-size: 150%; font-family: Verdana; text-align:center; -webkit-text-stroke-width: 1px; -webkit-text-stroke-color: black; text-shadow: 2px 2px 4px rgba(0, 0, 0, 0.7);\">\n",
    "   IMPORTING BERT PRE-TRAINED MODEL\n",
    "</div>\n"
   ]
  },
  {
   "cell_type": "code",
   "execution_count": 9,
   "id": "10d67c8e",
   "metadata": {
    "execution": {
     "iopub.execute_input": "2024-03-23T04:44:47.657409Z",
     "iopub.status.busy": "2024-03-23T04:44:47.656773Z",
     "iopub.status.idle": "2024-03-23T04:44:52.438017Z",
     "shell.execute_reply": "2024-03-23T04:44:52.437038Z"
    },
    "papermill": {
     "duration": 4.840912,
     "end_time": "2024-03-23T04:44:52.440469",
     "exception": false,
     "start_time": "2024-03-23T04:44:47.599557",
     "status": "completed"
    },
    "tags": []
   },
   "outputs": [
    {
     "data": {
      "application/vnd.jupyter.widget-view+json": {
       "model_id": "144eaf7d596a4613907d07e2cc728277",
       "version_major": 2,
       "version_minor": 0
      },
      "text/plain": [
       "config.json:   0%|          | 0.00/570 [00:00<?, ?B/s]"
      ]
     },
     "metadata": {},
     "output_type": "display_data"
    },
    {
     "data": {
      "application/vnd.jupyter.widget-view+json": {
       "model_id": "1a9f427d528547d6aa4b37a5d7853c08",
       "version_major": 2,
       "version_minor": 0
      },
      "text/plain": [
       "model.safetensors:   0%|          | 0.00/440M [00:00<?, ?B/s]"
      ]
     },
     "metadata": {},
     "output_type": "display_data"
    }
   ],
   "source": [
    "# import BERT-base pretrained model\n",
    "bert = AutoModel.from_pretrained('bert-base-uncased')"
   ]
  },
  {
   "cell_type": "markdown",
   "id": "c1f0aeb7",
   "metadata": {
    "papermill": {
     "duration": 0.01685,
     "end_time": "2024-03-23T04:44:52.474864",
     "exception": false,
     "start_time": "2024-03-23T04:44:52.458014",
     "status": "completed"
    },
    "tags": []
   },
   "source": [
    "<div style=\"color:white; background-color:#5642C5; padding: 10px; border-radius: 15px; font-size: 150%; font-family: Verdana; text-align:center; -webkit-text-stroke-width: 1px; -webkit-text-stroke-color: black; text-shadow: 2px 2px 4px rgba(0, 0, 0, 0.7);\">\n",
    "   IMPORTING BERT TOKENIZER\n",
    "</div>\n"
   ]
  },
  {
   "cell_type": "code",
   "execution_count": 10,
   "id": "e17cc457",
   "metadata": {
    "execution": {
     "iopub.execute_input": "2024-03-23T04:44:52.512707Z",
     "iopub.status.busy": "2024-03-23T04:44:52.511236Z",
     "iopub.status.idle": "2024-03-23T04:44:53.090009Z",
     "shell.execute_reply": "2024-03-23T04:44:53.089168Z"
    },
    "papermill": {
     "duration": 0.599629,
     "end_time": "2024-03-23T04:44:53.092384",
     "exception": false,
     "start_time": "2024-03-23T04:44:52.492755",
     "status": "completed"
    },
    "tags": []
   },
   "outputs": [
    {
     "data": {
      "application/vnd.jupyter.widget-view+json": {
       "model_id": "76131eb1aea6496399f96fce1fc94c48",
       "version_major": 2,
       "version_minor": 0
      },
      "text/plain": [
       "tokenizer_config.json:   0%|          | 0.00/48.0 [00:00<?, ?B/s]"
      ]
     },
     "metadata": {},
     "output_type": "display_data"
    },
    {
     "data": {
      "application/vnd.jupyter.widget-view+json": {
       "model_id": "66aed60cdd2d40ddabb3035d2b775f04",
       "version_major": 2,
       "version_minor": 0
      },
      "text/plain": [
       "vocab.txt:   0%|          | 0.00/232k [00:00<?, ?B/s]"
      ]
     },
     "metadata": {},
     "output_type": "display_data"
    },
    {
     "data": {
      "application/vnd.jupyter.widget-view+json": {
       "model_id": "ba028e93bc79411db699ea7a51fda4b0",
       "version_major": 2,
       "version_minor": 0
      },
      "text/plain": [
       "tokenizer.json:   0%|          | 0.00/466k [00:00<?, ?B/s]"
      ]
     },
     "metadata": {},
     "output_type": "display_data"
    }
   ],
   "source": [
    "# Load the BERT tokenizer\n",
    "tokenizer = BertTokenizerFast.from_pretrained('bert-base-uncased')"
   ]
  },
  {
   "cell_type": "code",
   "execution_count": 11,
   "id": "8af6d8dc",
   "metadata": {
    "execution": {
     "iopub.execute_input": "2024-03-23T04:44:53.126636Z",
     "iopub.status.busy": "2024-03-23T04:44:53.126314Z",
     "iopub.status.idle": "2024-03-23T04:44:53.440742Z",
     "shell.execute_reply": "2024-03-23T04:44:53.439743Z"
    },
    "papermill": {
     "duration": 0.333641,
     "end_time": "2024-03-23T04:44:53.442965",
     "exception": false,
     "start_time": "2024-03-23T04:44:53.109324",
     "status": "completed"
    },
    "tags": []
   },
   "outputs": [
    {
     "data": {
      "text/plain": [
       "(array([1504.,  701.,  572.,  521.,  164.,  215.,  117.,   63.,  104.,\n",
       "           6.]),\n",
       " array([ 3. ,  6.5, 10. , 13.5, 17. , 20.5, 24. , 27.5, 31. , 34.5, 38. ]),\n",
       " <BarContainer object of 10 artists>)"
      ]
     },
     "execution_count": 11,
     "metadata": {},
     "output_type": "execute_result"
    },
    {
     "data": {
      "image/png": "[encoded data removed]",
      "text/plain": [
       "<Figure size 640x480 with 1 Axes>"
      ]
     },
     "metadata": {},
     "output_type": "display_data"
    }
   ],
   "source": [
    "train_lens=[len(i.split()) for i in train_text]\n",
    "plt.hist(train_lens)"
   ]
  },
  {
   "cell_type": "code",
   "execution_count": 12,
   "id": "f3b0d896",
   "metadata": {
    "execution": {
     "iopub.execute_input": "2024-03-23T04:44:53.478972Z",
     "iopub.status.busy": "2024-03-23T04:44:53.478641Z",
     "iopub.status.idle": "2024-03-23T04:44:53.482902Z",
     "shell.execute_reply": "2024-03-23T04:44:53.481958Z"
    },
    "papermill": {
     "duration": 0.024471,
     "end_time": "2024-03-23T04:44:53.484934",
     "exception": false,
     "start_time": "2024-03-23T04:44:53.460463",
     "status": "completed"
    },
    "tags": []
   },
   "outputs": [],
   "source": [
    "pad_len=17"
   ]
  },
  {
   "cell_type": "markdown",
   "id": "4f1832c5",
   "metadata": {
    "papermill": {
     "duration": 0.016854,
     "end_time": "2024-03-23T04:44:53.519134",
     "exception": false,
     "start_time": "2024-03-23T04:44:53.502280",
     "status": "completed"
    },
    "tags": []
   },
   "source": [
    "<div style=\"color:white; background-color:#5642C5; padding: 10px; border-radius: 15px; font-size: 150%; font-family: Verdana; text-align:center; -webkit-text-stroke-width: 1px; -webkit-text-stroke-color: black; text-shadow: 2px 2px 4px rgba(0, 0, 0, 0.7);\">\n",
    "   Tokenizing The Data\n",
    "</div>\n"
   ]
  },
  {
   "cell_type": "code",
   "execution_count": 13,
   "id": "e55a1fcf",
   "metadata": {
    "execution": {
     "iopub.execute_input": "2024-03-23T04:44:53.555540Z",
     "iopub.status.busy": "2024-03-23T04:44:53.555212Z",
     "iopub.status.idle": "2024-03-23T04:44:53.761136Z",
     "shell.execute_reply": "2024-03-23T04:44:53.760117Z"
    },
    "papermill": {
     "duration": 0.226989,
     "end_time": "2024-03-23T04:44:53.763698",
     "exception": false,
     "start_time": "2024-03-23T04:44:53.536709",
     "status": "completed"
    },
    "tags": []
   },
   "outputs": [
    {
     "name": "stderr",
     "output_type": "stream",
     "text": [
      "/opt/conda/lib/python3.10/site-packages/transformers/tokenization_utils_base.py:2645: FutureWarning: The `pad_to_max_length` argument is deprecated and will be removed in a future version, use `padding=True` or `padding='longest'` to pad to the longest sequence in the batch, or use `padding='max_length'` to pad to a max length. In this case, you can give a specific length with `max_length` (e.g. `max_length=45`) or leave max_length to None to pad to the maximal input size of the model (e.g. 512 for Bert).\n",
      "  warnings.warn(\n"
     ]
    }
   ],
   "source": [
    "\n",
    "# tokenize and encode sequences \n",
    "tokens_train = tokenizer.batch_encode_plus(\n",
    "    train_text.tolist(),\n",
    "    max_length = pad_len,\n",
    "    pad_to_max_length=True,\n",
    "    truncation=True\n",
    ")\n",
    "\n",
    "tokens_val = tokenizer.batch_encode_plus(\n",
    "    val_text.tolist(),\n",
    "    max_length = pad_len,\n",
    "    pad_to_max_length=True,\n",
    "    truncation=True\n",
    ")\n",
    "\n",
    "tokens_test = tokenizer.batch_encode_plus(\n",
    "    test_text.tolist(),\n",
    "    max_length = pad_len,\n",
    "    pad_to_max_length=True,\n",
    "    truncation=True\n",
    ")"
   ]
  },
  {
   "cell_type": "code",
   "execution_count": 14,
   "id": "3fe1c024",
   "metadata": {
    "execution": {
     "iopub.execute_input": "2024-03-23T04:44:53.799446Z",
     "iopub.status.busy": "2024-03-23T04:44:53.799134Z",
     "iopub.status.idle": "2024-03-23T04:44:53.880021Z",
     "shell.execute_reply": "2024-03-23T04:44:53.879024Z"
    },
    "papermill": {
     "duration": 0.101138,
     "end_time": "2024-03-23T04:44:53.882199",
     "exception": false,
     "start_time": "2024-03-23T04:44:53.781061",
     "status": "completed"
    },
    "tags": []
   },
   "outputs": [],
   "source": [
    "train_seq = torch.tensor(tokens_train['input_ids'])\n",
    "train_mask = torch.tensor(tokens_train['attention_mask'])\n",
    "train_y = torch.tensor(train_labels.tolist())\n",
    "\n",
    "val_seq = torch.tensor(tokens_val['input_ids'])\n",
    "val_mask = torch.tensor(tokens_val['attention_mask'])\n",
    "val_y = torch.tensor(val_labels.tolist())\n",
    "\n",
    "test_seq = torch.tensor(tokens_test['input_ids'])\n",
    "test_mask = torch.tensor(tokens_test['attention_mask'])\n",
    "test_y = torch.tensor(test_labels.tolist())"
   ]
  },
  {
   "cell_type": "markdown",
   "id": "361675ab",
   "metadata": {
    "papermill": {
     "duration": 0.016719,
     "end_time": "2024-03-23T04:44:53.916052",
     "exception": false,
     "start_time": "2024-03-23T04:44:53.899333",
     "status": "completed"
    },
    "tags": []
   },
   "source": [
    "<div style=\"color:white; background-color:#5642C5; padding: 10px; border-radius: 15px; font-size: 150%; font-family: Verdana; text-align:center; -webkit-text-stroke-width: 1px; -webkit-text-stroke-color: black; text-shadow: 2px 2px 4px rgba(0, 0, 0, 0.7);\">\n",
    "   Defining Some Parameters\n",
    "</div>\n"
   ]
  },
  {
   "cell_type": "code",
   "execution_count": 15,
   "id": "5dfb3c08",
   "metadata": {
    "execution": {
     "iopub.execute_input": "2024-03-23T04:44:53.950186Z",
     "iopub.status.busy": "2024-03-23T04:44:53.949852Z",
     "iopub.status.idle": "2024-03-23T04:44:53.957506Z",
     "shell.execute_reply": "2024-03-23T04:44:53.956674Z"
    },
    "papermill": {
     "duration": 0.026917,
     "end_time": "2024-03-23T04:44:53.959377",
     "exception": false,
     "start_time": "2024-03-23T04:44:53.932460",
     "status": "completed"
    },
    "tags": []
   },
   "outputs": [],
   "source": [
    "#define a batch size\n",
    "batch_size = 64\n",
    "\n",
    "# wrap tensors\n",
    "train_data = TensorDataset(train_seq, train_mask, train_y)\n",
    "\n",
    "# sampler for sampling the data during training\n",
    "train_sampler = RandomSampler(train_data)\n",
    "\n",
    "# dataLoader for train set\n",
    "train_dataloader = DataLoader(train_data, sampler=train_sampler, batch_size=batch_size)\n",
    "\n",
    "# wrap tensors\n",
    "val_data = TensorDataset(val_seq, val_mask, val_y)\n",
    "\n",
    "# sampler for sampling the data during training\n",
    "val_sampler = SequentialSampler(val_data)\n",
    "\n",
    "# dataLoader for validation set\n",
    "val_dataloader = DataLoader(val_data, sampler = val_sampler, batch_size=batch_size)\n",
    "     \n",
    "\n",
    "# freeze the BERT architecture\n",
    "\n",
    "for param in bert.parameters():\n",
    "    param.requires_grad = False"
   ]
  },
  {
   "cell_type": "markdown",
   "id": "cb696f3d",
   "metadata": {
    "papermill": {
     "duration": 0.016051,
     "end_time": "2024-03-23T04:44:53.992043",
     "exception": false,
     "start_time": "2024-03-23T04:44:53.975992",
     "status": "completed"
    },
    "tags": []
   },
   "source": [
    "<div style=\"color:white; background-color:#5642C5; padding: 10px; border-radius: 15px; font-size: 150%; font-family: Verdana; text-align:center; -webkit-text-stroke-width: 1px; -webkit-text-stroke-color: black; text-shadow: 2px 2px 4px rgba(0, 0, 0, 0.7);\">\n",
    "   BERT Architecture\n",
    "</div>\n"
   ]
  },
  {
   "cell_type": "markdown",
   "id": "ce893143",
   "metadata": {
    "papermill": {
     "duration": 0.01555,
     "end_time": "2024-03-23T04:44:54.023219",
     "exception": false,
     "start_time": "2024-03-23T04:44:54.007669",
     "status": "completed"
    },
    "tags": []
   },
   "source": [
    "![](https://i0.wp.com/neptune.ai/wp-content/uploads/2022/10/Attention_diagram_transformer.png?ssl=1)"
   ]
  },
  {
   "cell_type": "code",
   "execution_count": 16,
   "id": "96a924de",
   "metadata": {
    "execution": {
     "iopub.execute_input": "2024-03-23T04:44:54.056616Z",
     "iopub.status.busy": "2024-03-23T04:44:54.056308Z",
     "iopub.status.idle": "2024-03-23T04:44:54.064224Z",
     "shell.execute_reply": "2024-03-23T04:44:54.063388Z"
    },
    "papermill": {
     "duration": 0.026857,
     "end_time": "2024-03-23T04:44:54.066133",
     "exception": false,
     "start_time": "2024-03-23T04:44:54.039276",
     "status": "completed"
    },
    "tags": []
   },
   "outputs": [],
   "source": [
    "class BERT_architecture(nn.Module):\n",
    "\n",
    "    def __init__(self, bert):\n",
    "      \n",
    "      super(BERT_architecture, self).__init__()\n",
    "\n",
    "      self.bert = bert \n",
    "      \n",
    "      # dropout layer\n",
    "      self.dropout = nn.Dropout(0.2)\n",
    "      \n",
    "      # relu activation function\n",
    "      self.relu =  nn.ReLU()\n",
    "\n",
    "      # dense layer 1\n",
    "      self.fc1 = nn.Linear(768,512)\n",
    "      \n",
    "      # dense layer 2 (Output layer)\n",
    "      self.fc2 = nn.Linear(512,2)\n",
    "\n",
    "      #softmax activation function\n",
    "      self.softmax = nn.LogSoftmax(dim=1)\n",
    "\n",
    "    #define the forward pass\n",
    "    def forward(self, sent_id, mask):\n",
    "\n",
    "      #pass the inputs to the model  \n",
    "      _, cls_hs = self.bert(sent_id, attention_mask=mask, return_dict=False)\n",
    "      \n",
    "      x = self.fc1(cls_hs)\n",
    "\n",
    "      x = self.relu(x)\n",
    "\n",
    "      x = self.dropout(x)\n",
    "\n",
    "      # output layer\n",
    "      x = self.fc2(x)\n",
    "      \n",
    "      # apply softmax activation\n",
    "      x = self.softmax(x)\n",
    "\n",
    "      return x"
   ]
  },
  {
   "cell_type": "code",
   "execution_count": 17,
   "id": "5113deb5",
   "metadata": {
    "execution": {
     "iopub.execute_input": "2024-03-23T04:44:54.099304Z",
     "iopub.status.busy": "2024-03-23T04:44:54.098963Z",
     "iopub.status.idle": "2024-03-23T04:44:54.503091Z",
     "shell.execute_reply": "2024-03-23T04:44:54.502259Z"
    },
    "papermill": {
     "duration": 0.424009,
     "end_time": "2024-03-23T04:44:54.505464",
     "exception": false,
     "start_time": "2024-03-23T04:44:54.081455",
     "status": "completed"
    },
    "tags": []
   },
   "outputs": [],
   "source": [
    "# pass the pre-trained BERT to our define architecture\n",
    "model = BERT_architecture(bert)\n",
    "\n",
    "# push the model to GPU\n",
    "model = model.to(device)"
   ]
  },
  {
   "cell_type": "code",
   "execution_count": 18,
   "id": "3d3190e4",
   "metadata": {
    "execution": {
     "iopub.execute_input": "2024-03-23T04:44:54.541278Z",
     "iopub.status.busy": "2024-03-23T04:44:54.540905Z",
     "iopub.status.idle": "2024-03-23T04:44:54.550940Z",
     "shell.execute_reply": "2024-03-23T04:44:54.549835Z"
    },
    "papermill": {
     "duration": 0.030742,
     "end_time": "2024-03-23T04:44:54.553154",
     "exception": false,
     "start_time": "2024-03-23T04:44:54.522412",
     "status": "completed"
    },
    "tags": []
   },
   "outputs": [
    {
     "name": "stderr",
     "output_type": "stream",
     "text": [
      "/opt/conda/lib/python3.10/site-packages/transformers/optimization.py:429: FutureWarning: This implementation of AdamW is deprecated and will be removed in a future version. Use the PyTorch implementation torch.optim.AdamW instead, or set `no_deprecation_warning=True` to disable this warning\n",
      "  warnings.warn(\n"
     ]
    }
   ],
   "source": [
    "# define the optimizer\n",
    "optimizer = AdamW(model.parameters(),lr = 1e-5)  "
   ]
  },
  {
   "cell_type": "code",
   "execution_count": 19,
   "id": "b76778aa",
   "metadata": {
    "execution": {
     "iopub.execute_input": "2024-03-23T04:44:54.588677Z",
     "iopub.status.busy": "2024-03-23T04:44:54.588375Z",
     "iopub.status.idle": "2024-03-23T04:44:54.597021Z",
     "shell.execute_reply": "2024-03-23T04:44:54.595923Z"
    },
    "papermill": {
     "duration": 0.029194,
     "end_time": "2024-03-23T04:44:54.599216",
     "exception": false,
     "start_time": "2024-03-23T04:44:54.570022",
     "status": "completed"
    },
    "tags": []
   },
   "outputs": [
    {
     "name": "stdout",
     "output_type": "stream",
     "text": [
      "class weights are [1.14985507 0.88470116] for [0 1]\n"
     ]
    }
   ],
   "source": [
    "from sklearn.utils.class_weight import compute_class_weight\n",
    "#compute the class weights\n",
    "class_weights = compute_class_weight(class_weight = \"balanced\",\n",
    "                                        classes = np.unique(train_labels),\n",
    "                                        y = train_labels \n",
    "                                     )\n",
    "print(\"class weights are {} for {}\".format(class_weights,np.unique(train_labels)))"
   ]
  },
  {
   "cell_type": "code",
   "execution_count": 20,
   "id": "76ebb25a",
   "metadata": {
    "execution": {
     "iopub.execute_input": "2024-03-23T04:44:54.635194Z",
     "iopub.status.busy": "2024-03-23T04:44:54.634659Z",
     "iopub.status.idle": "2024-03-23T04:44:54.652058Z",
     "shell.execute_reply": "2024-03-23T04:44:54.651137Z"
    },
    "papermill": {
     "duration": 0.036864,
     "end_time": "2024-03-23T04:44:54.654107",
     "exception": false,
     "start_time": "2024-03-23T04:44:54.617243",
     "status": "completed"
    },
    "tags": []
   },
   "outputs": [
    {
     "name": "stderr",
     "output_type": "stream",
     "text": [
      "/tmp/ipykernel_26/26686347.py:2: FutureWarning: pandas.value_counts is deprecated and will be removed in a future version. Use pd.Series(obj).value_counts() instead.\n",
      "  pd.value_counts(train_labels)\n"
     ]
    },
    {
     "data": {
      "text/plain": [
       "label\n",
       "1    2242\n",
       "0    1725\n",
       "Name: count, dtype: int64"
      ]
     },
     "execution_count": 20,
     "metadata": {},
     "output_type": "execute_result"
    }
   ],
   "source": [
    "#count of both the categories of training labels\n",
    "pd.value_counts(train_labels)"
   ]
  },
  {
   "cell_type": "code",
   "execution_count": 21,
   "id": "4e17cfda",
   "metadata": {
    "execution": {
     "iopub.execute_input": "2024-03-23T04:44:54.689935Z",
     "iopub.status.busy": "2024-03-23T04:44:54.689613Z",
     "iopub.status.idle": "2024-03-23T04:44:54.697700Z",
     "shell.execute_reply": "2024-03-23T04:44:54.697007Z"
    },
    "papermill": {
     "duration": 0.027601,
     "end_time": "2024-03-23T04:44:54.699689",
     "exception": false,
     "start_time": "2024-03-23T04:44:54.672088",
     "status": "completed"
    },
    "tags": []
   },
   "outputs": [],
   "source": [
    "#wrap class weights in tensor\n",
    "weights= torch.tensor(class_weights,dtype=torch.float)\n",
    "\n",
    "# push weights to GPU\n",
    "weights = weights.to(device)\n",
    "\n",
    "# define loss function\n",
    "# add weights to handle the \"imbalance\" in the dataset\n",
    "cross_entropy  = nn.NLLLoss(weight=weights) \n",
    "\n",
    "# number of training epochs\n",
    "epochs = 100"
   ]
  },
  {
   "cell_type": "code",
   "execution_count": 22,
   "id": "030404d2",
   "metadata": {
    "execution": {
     "iopub.execute_input": "2024-03-23T04:44:54.738880Z",
     "iopub.status.busy": "2024-03-23T04:44:54.738575Z",
     "iopub.status.idle": "2024-03-23T04:44:54.748724Z",
     "shell.execute_reply": "2024-03-23T04:44:54.747923Z"
    },
    "papermill": {
     "duration": 0.033555,
     "end_time": "2024-03-23T04:44:54.750801",
     "exception": false,
     "start_time": "2024-03-23T04:44:54.717246",
     "status": "completed"
    },
    "tags": []
   },
   "outputs": [],
   "source": [
    "# function to train the model\n",
    "def train():\n",
    "  \n",
    "  model.train()\n",
    "\n",
    "  total_loss, total_accuracy = 0, 0\n",
    "  \n",
    "  # empty list to save model predictions\n",
    "  total_preds=[]\n",
    "  \n",
    "  # iterate over batches\n",
    "  for step,batch in enumerate(train_dataloader):\n",
    "    \n",
    "    # progress update after every 50 batches.\n",
    "    if step % 50 == 0 and not step == 0:\n",
    "      print('  Batch {:>5,}  of  {:>5,}.'.format(step, len(train_dataloader)))\n",
    "\n",
    "    # push the batch to gpu\n",
    "    batch = [r.to(device) for r in batch]\n",
    " \n",
    "    sent_id, mask, labels = batch\n",
    "\n",
    "    # clear previously calculated gradients \n",
    "    model.zero_grad()        \n",
    "\n",
    "    # get model predictions for the current batch\n",
    "    preds = model(sent_id, mask)\n",
    "\n",
    "    # compute the loss between actual and predicted values\n",
    "    loss = cross_entropy(preds, labels)\n",
    "\n",
    "    # add on to the total loss\n",
    "    total_loss = total_loss + loss.item()\n",
    "\n",
    "    # backward pass to calculate the gradients\n",
    "    loss.backward()\n",
    "\n",
    "    # clip the the gradients to 1.0. It helps in preventing the exploding gradient problem\n",
    "    torch.nn.utils.clip_grad_norm_(model.parameters(), 1.0)\n",
    "\n",
    "    # update parameters\n",
    "    optimizer.step()\n",
    "\n",
    "    # model predictions are stored on GPU. So, push it to CPU\n",
    "    preds=preds.detach().cpu().numpy()\n",
    "\n",
    "    # append the model predictions\n",
    "    total_preds.append(preds)\n",
    "\n",
    "  # compute the training loss of the epoch\n",
    "  avg_loss = total_loss / len(train_dataloader)\n",
    "  \n",
    "  # predictions are in the form of (no. of batches, size of batch, no. of classes).\n",
    "  # reshape the predictions in form of (number of samples, no. of classes)\n",
    "  total_preds  = np.concatenate(total_preds, axis=0)\n",
    "\n",
    "  #returns the loss and predictions\n",
    "  return avg_loss, total_preds"
   ]
  },
  {
   "cell_type": "code",
   "execution_count": 23,
   "id": "6cdaa806",
   "metadata": {
    "execution": {
     "iopub.execute_input": "2024-03-23T04:44:54.783543Z",
     "iopub.status.busy": "2024-03-23T04:44:54.783284Z",
     "iopub.status.idle": "2024-03-23T04:44:54.791280Z",
     "shell.execute_reply": "2024-03-23T04:44:54.790440Z"
    },
    "papermill": {
     "duration": 0.026452,
     "end_time": "2024-03-23T04:44:54.793303",
     "exception": false,
     "start_time": "2024-03-23T04:44:54.766851",
     "status": "completed"
    },
    "tags": []
   },
   "outputs": [],
   "source": [
    "# function for evaluating the model\n",
    "def evaluate():\n",
    "  \n",
    "  print(\"\\nEvaluating...\")\n",
    "  \n",
    "  # deactivate dropout layers\n",
    "  model.eval()\n",
    "\n",
    "  total_loss, total_accuracy = 0, 0\n",
    "  \n",
    "  # empty list to save the model predictions\n",
    "  total_preds = []\n",
    "\n",
    "  # iterate over batches\n",
    "  for step,batch in enumerate(val_dataloader):\n",
    "    \n",
    "    # Progress update every 50 batches.\n",
    "    if step % 50 == 0 and not step == 0:\n",
    "      \n",
    "      # # Calculate elapsed time in minutes.\n",
    "      # elapsed = format_time(time.time() - t0)\n",
    "            \n",
    "      # Report progress.\n",
    "      print('  Batch {:>5,}  of  {:>5,}.'.format(step, len(val_dataloader)))\n",
    "\n",
    "    # push the batch to gpu\n",
    "    batch = [t.to(device) for t in batch]\n",
    "\n",
    "    sent_id, mask, labels = batch\n",
    "\n",
    "    # deactivate autograd\n",
    "    with torch.no_grad():\n",
    "      \n",
    "      # model predictions\n",
    "      preds = model(sent_id, mask)\n",
    "\n",
    "      # compute the validation loss between actual and predicted values\n",
    "      loss = cross_entropy(preds,labels)\n",
    "\n",
    "      total_loss = total_loss + loss.item()\n",
    "\n",
    "      preds = preds.detach().cpu().numpy()\n",
    "\n",
    "      total_preds.append(preds)\n",
    "\n",
    "  # compute the validation loss of the epoch\n",
    "  avg_loss = total_loss / len(val_dataloader) \n",
    "\n",
    "  # reshape the predictions in form of (number of samples, no. of classes)\n",
    "  total_preds  = np.concatenate(total_preds, axis=0)\n",
    "\n",
    "  return avg_loss, total_preds\n"
   ]
  },
  {
   "cell_type": "markdown",
   "id": "412da82b",
   "metadata": {
    "papermill": {
     "duration": 0.017605,
     "end_time": "2024-03-23T04:44:54.826386",
     "exception": false,
     "start_time": "2024-03-23T04:44:54.808781",
     "status": "completed"
    },
    "tags": []
   },
   "source": [
    "<div style=\"color:white; background-color:#5642C5; padding: 10px; border-radius: 15px; font-size: 150%; font-family: Verdana; text-align:center; -webkit-text-stroke-width: 1px; -webkit-text-stroke-color: black; text-shadow: 2px 2px 4px rgba(0, 0, 0, 0.7);\">\n",
    "   Training Of BERT Model\n",
    "</div>\n"
   ]
  },
  {
   "cell_type": "code",
   "execution_count": 24,
   "id": "636edacc",
   "metadata": {
    "execution": {
     "iopub.execute_input": "2024-03-23T04:44:54.864654Z",
     "iopub.status.busy": "2024-03-23T04:44:54.864344Z",
     "iopub.status.idle": "2024-03-23T04:54:52.787108Z",
     "shell.execute_reply": "2024-03-23T04:54:52.786109Z"
    },
    "papermill": {
     "duration": 597.945015,
     "end_time": "2024-03-23T04:54:52.790816",
     "exception": false,
     "start_time": "2024-03-23T04:44:54.845801",
     "status": "completed"
    },
    "tags": []
   },
   "outputs": [
    {
     "name": "stdout",
     "output_type": "stream",
     "text": [
      "\n",
      " Epoch 1 / 100\n",
      "  Batch    50  of     62.\n",
      "\n",
      "Evaluating...\n",
      "\n",
      "Training Loss: 0.6942982173735096\n",
      "Validation Loss: 0.6865829910550799\n",
      "\n",
      " Epoch 2 / 100\n",
      "  Batch    50  of     62.\n",
      "\n",
      "Evaluating...\n",
      "\n",
      "Training Loss: 0.6857223347310097\n",
      "Validation Loss: 0.6788262213979449\n",
      "\n",
      " Epoch 3 / 100\n",
      "  Batch    50  of     62.\n",
      "\n",
      "Evaluating...\n",
      "\n",
      "Training Loss: 0.6839109784172427\n",
      "Validation Loss: 0.6731255437646594\n",
      "\n",
      " Epoch 4 / 100\n",
      "  Batch    50  of     62.\n",
      "\n",
      "Evaluating...\n",
      "\n",
      "Training Loss: 0.6791575003054834\n",
      "Validation Loss: 0.6689361844744001\n",
      "\n",
      " Epoch 5 / 100\n",
      "  Batch    50  of     62.\n",
      "\n",
      "Evaluating...\n",
      "\n",
      "Training Loss: 0.6742743522890152\n",
      "Validation Loss: 0.6644086156572614\n",
      "\n",
      " Epoch 6 / 100\n",
      "  Batch    50  of     62.\n",
      "\n",
      "Evaluating...\n",
      "\n",
      "Training Loss: 0.6717363711326353\n",
      "Validation Loss: 0.6603528431483677\n",
      "\n",
      " Epoch 7 / 100\n",
      "  Batch    50  of     62.\n",
      "\n",
      "Evaluating...\n",
      "\n",
      "Training Loss: 0.6698466875860768\n",
      "Validation Loss: 0.6578725874423981\n",
      "\n",
      " Epoch 8 / 100\n",
      "  Batch    50  of     62.\n",
      "\n",
      "Evaluating...\n",
      "\n",
      "Training Loss: 0.6660159211004933\n",
      "Validation Loss: 0.6527729417596545\n",
      "\n",
      " Epoch 9 / 100\n",
      "  Batch    50  of     62.\n",
      "\n",
      "Evaluating...\n",
      "\n",
      "Training Loss: 0.662779361970963\n",
      "Validation Loss: 0.6486780898911613\n",
      "\n",
      " Epoch 10 / 100\n",
      "  Batch    50  of     62.\n",
      "\n",
      "Evaluating...\n",
      "\n",
      "Training Loss: 0.6598197404415377\n",
      "Validation Loss: 0.6446010300091335\n",
      "\n",
      " Epoch 11 / 100\n",
      "  Batch    50  of     62.\n",
      "\n",
      "Evaluating...\n",
      "\n",
      "Training Loss: 0.6548963583284809\n",
      "Validation Loss: 0.6426378616264888\n",
      "\n",
      " Epoch 12 / 100\n",
      "  Batch    50  of     62.\n",
      "\n",
      "Evaluating...\n",
      "\n",
      "Training Loss: 0.6516557480058363\n",
      "Validation Loss: 0.6366613166672843\n",
      "\n",
      " Epoch 13 / 100\n",
      "  Batch    50  of     62.\n",
      "\n",
      "Evaluating...\n",
      "\n",
      "Training Loss: 0.6474175520481602\n",
      "Validation Loss: 0.633568001644952\n",
      "\n",
      " Epoch 14 / 100\n",
      "  Batch    50  of     62.\n",
      "\n",
      "Evaluating...\n",
      "\n",
      "Training Loss: 0.6489210984399242\n",
      "Validation Loss: 0.6289856604167393\n",
      "\n",
      " Epoch 15 / 100\n",
      "  Batch    50  of     62.\n",
      "\n",
      "Evaluating...\n",
      "\n",
      "Training Loss: 0.6435848051501859\n",
      "Validation Loss: 0.6250918124403272\n",
      "\n",
      " Epoch 16 / 100\n",
      "  Batch    50  of     62.\n",
      "\n",
      "Evaluating...\n",
      "\n",
      "Training Loss: 0.641099565452145\n",
      "Validation Loss: 0.6216732817036765\n",
      "\n",
      " Epoch 17 / 100\n",
      "  Batch    50  of     62.\n",
      "\n",
      "Evaluating...\n",
      "\n",
      "Training Loss: 0.635964923327969\n",
      "Validation Loss: 0.616686395236424\n",
      "\n",
      " Epoch 18 / 100\n",
      "  Batch    50  of     62.\n",
      "\n",
      "Evaluating...\n",
      "\n",
      "Training Loss: 0.6310500358381579\n",
      "Validation Loss: 0.6134493436132159\n",
      "\n",
      " Epoch 19 / 100\n",
      "  Batch    50  of     62.\n",
      "\n",
      "Evaluating...\n",
      "\n",
      "Training Loss: 0.627935225925138\n",
      "Validation Loss: 0.6078410957540784\n",
      "\n",
      " Epoch 20 / 100\n",
      "  Batch    50  of     62.\n",
      "\n",
      "Evaluating...\n",
      "\n",
      "Training Loss: 0.6243196177867151\n",
      "Validation Loss: 0.6037045887538365\n",
      "\n",
      " Epoch 21 / 100\n",
      "  Batch    50  of     62.\n",
      "\n",
      "Evaluating...\n",
      "\n",
      "Training Loss: 0.6192135512828827\n",
      "Validation Loss: 0.6025086130414691\n",
      "\n",
      " Epoch 22 / 100\n",
      "  Batch    50  of     62.\n",
      "\n",
      "Evaluating...\n",
      "\n",
      "Training Loss: 0.6196879984871033\n",
      "Validation Loss: 0.595528381211417\n",
      "\n",
      " Epoch 23 / 100\n",
      "  Batch    50  of     62.\n",
      "\n",
      "Evaluating...\n",
      "\n",
      "Training Loss: 0.6113341931373842\n",
      "Validation Loss: 0.589654837335859\n",
      "\n",
      " Epoch 24 / 100\n",
      "  Batch    50  of     62.\n",
      "\n",
      "Evaluating...\n",
      "\n",
      "Training Loss: 0.6110077952184985\n",
      "Validation Loss: 0.5852612980774471\n",
      "\n",
      " Epoch 25 / 100\n",
      "  Batch    50  of     62.\n",
      "\n",
      "Evaluating...\n",
      "\n",
      "Training Loss: 0.6064522641320382\n",
      "Validation Loss: 0.5814665683678218\n",
      "\n",
      " Epoch 26 / 100\n",
      "  Batch    50  of     62.\n",
      "\n",
      "Evaluating...\n",
      "\n",
      "Training Loss: 0.6012718658293447\n",
      "Validation Loss: 0.5761027208396367\n",
      "\n",
      " Epoch 27 / 100\n",
      "  Batch    50  of     62.\n",
      "\n",
      "Evaluating...\n",
      "\n",
      "Training Loss: 0.5960486194779796\n",
      "Validation Loss: 0.5714708396366665\n",
      "\n",
      " Epoch 28 / 100\n",
      "  Batch    50  of     62.\n",
      "\n",
      "Evaluating...\n",
      "\n",
      "Training Loss: 0.5962948731837734\n",
      "Validation Loss: 0.5677633881568909\n",
      "\n",
      " Epoch 29 / 100\n",
      "  Batch    50  of     62.\n",
      "\n",
      "Evaluating...\n",
      "\n",
      "Training Loss: 0.5861872694184703\n",
      "Validation Loss: 0.5624826507908958\n",
      "\n",
      " Epoch 30 / 100\n",
      "  Batch    50  of     62.\n",
      "\n",
      "Evaluating...\n",
      "\n",
      "Training Loss: 0.5834341712536351\n",
      "Validation Loss: 0.5566096092973437\n",
      "\n",
      " Epoch 31 / 100\n",
      "  Batch    50  of     62.\n",
      "\n",
      "Evaluating...\n",
      "\n",
      "Training Loss: 0.5787830045146327\n",
      "Validation Loss: 0.5531828573771885\n",
      "\n",
      " Epoch 32 / 100\n",
      "  Batch    50  of     62.\n",
      "\n",
      "Evaluating...\n",
      "\n",
      "Training Loss: 0.5781004794182316\n",
      "Validation Loss: 0.5474902093410492\n",
      "\n",
      " Epoch 33 / 100\n",
      "  Batch    50  of     62.\n",
      "\n",
      "Evaluating...\n",
      "\n",
      "Training Loss: 0.5722199486147973\n",
      "Validation Loss: 0.5444174706935883\n",
      "\n",
      " Epoch 34 / 100\n",
      "  Batch    50  of     62.\n",
      "\n",
      "Evaluating...\n",
      "\n",
      "Training Loss: 0.5646072097363011\n",
      "Validation Loss: 0.5367657797677177\n",
      "\n",
      " Epoch 35 / 100\n",
      "  Batch    50  of     62.\n",
      "\n",
      "Evaluating...\n",
      "\n",
      "Training Loss: 0.5635563365874752\n",
      "Validation Loss: 0.5326461302382606\n",
      "\n",
      " Epoch 36 / 100\n",
      "  Batch    50  of     62.\n",
      "\n",
      "Evaluating...\n",
      "\n",
      "Training Loss: 0.5591898185591544\n",
      "Validation Loss: 0.5301684673343386\n",
      "\n",
      " Epoch 37 / 100\n",
      "  Batch    50  of     62.\n",
      "\n",
      "Evaluating...\n",
      "\n",
      "Training Loss: 0.5534902282299534\n",
      "Validation Loss: 0.5222673373562949\n",
      "\n",
      " Epoch 38 / 100\n",
      "  Batch    50  of     62.\n",
      "\n",
      "Evaluating...\n",
      "\n",
      "Training Loss: 0.5517468202498651\n",
      "Validation Loss: 0.5184752196073532\n",
      "\n",
      " Epoch 39 / 100\n",
      "  Batch    50  of     62.\n",
      "\n",
      "Evaluating...\n",
      "\n",
      "Training Loss: 0.5455134477346174\n",
      "Validation Loss: 0.5138968697616032\n",
      "\n",
      " Epoch 40 / 100\n",
      "  Batch    50  of     62.\n",
      "\n",
      "Evaluating...\n",
      "\n",
      "Training Loss: 0.5458887777020854\n",
      "Validation Loss: 0.5109868198633194\n",
      "\n",
      " Epoch 41 / 100\n",
      "  Batch    50  of     62.\n",
      "\n",
      "Evaluating...\n",
      "\n",
      "Training Loss: 0.5366043179265915\n",
      "Validation Loss: 0.5038247832230159\n",
      "\n",
      " Epoch 42 / 100\n",
      "  Batch    50  of     62.\n",
      "\n",
      "Evaluating...\n",
      "\n",
      "Training Loss: 0.5336355634274021\n",
      "Validation Loss: 0.4973089588539941\n",
      "\n",
      " Epoch 43 / 100\n",
      "  Batch    50  of     62.\n",
      "\n",
      "Evaluating...\n",
      "\n",
      "Training Loss: 0.5307721538889792\n",
      "Validation Loss: 0.49432359848703655\n",
      "\n",
      " Epoch 44 / 100\n",
      "  Batch    50  of     62.\n",
      "\n",
      "Evaluating...\n",
      "\n",
      "Training Loss: 0.5200251518718658\n",
      "Validation Loss: 0.488547499690737\n",
      "\n",
      " Epoch 45 / 100\n",
      "  Batch    50  of     62.\n",
      "\n",
      "Evaluating...\n",
      "\n",
      "Training Loss: 0.5159870539942095\n",
      "Validation Loss: 0.482387512922287\n",
      "\n",
      " Epoch 46 / 100\n",
      "  Batch    50  of     62.\n",
      "\n",
      "Evaluating...\n",
      "\n",
      "Training Loss: 0.5162637084722519\n",
      "Validation Loss: 0.4780220091342926\n",
      "\n",
      " Epoch 47 / 100\n",
      "  Batch    50  of     62.\n",
      "\n",
      "Evaluating...\n",
      "\n",
      "Training Loss: 0.5074128248999196\n",
      "Validation Loss: 0.47242243800844463\n",
      "\n",
      " Epoch 48 / 100\n",
      "  Batch    50  of     62.\n",
      "\n",
      "Evaluating...\n",
      "\n",
      "Training Loss: 0.5037246836769965\n",
      "Validation Loss: 0.46705089935234617\n",
      "\n",
      " Epoch 49 / 100\n",
      "  Batch    50  of     62.\n",
      "\n",
      "Evaluating...\n",
      "\n",
      "Training Loss: 0.5028968491861897\n",
      "Validation Loss: 0.4644003361463547\n",
      "\n",
      " Epoch 50 / 100\n",
      "  Batch    50  of     62.\n",
      "\n",
      "Evaluating...\n",
      "\n",
      "Training Loss: 0.4969498904482011\n",
      "Validation Loss: 0.460189442549433\n",
      "\n",
      " Epoch 51 / 100\n",
      "  Batch    50  of     62.\n",
      "\n",
      "Evaluating...\n",
      "\n",
      "Training Loss: 0.49361482358747916\n",
      "Validation Loss: 0.45419577615601675\n",
      "\n",
      " Epoch 52 / 100\n",
      "  Batch    50  of     62.\n",
      "\n",
      "Evaluating...\n",
      "\n",
      "Training Loss: 0.4933097828780451\n",
      "Validation Loss: 0.45021570154598783\n",
      "\n",
      " Epoch 53 / 100\n",
      "  Batch    50  of     62.\n",
      "\n",
      "Evaluating...\n",
      "\n",
      "Training Loss: 0.4850744850212528\n",
      "Validation Loss: 0.44736901777131216\n",
      "\n",
      " Epoch 54 / 100\n",
      "  Batch    50  of     62.\n",
      "\n",
      "Evaluating...\n",
      "\n",
      "Training Loss: 0.4804393144384507\n",
      "Validation Loss: 0.44093984152589527\n",
      "\n",
      " Epoch 55 / 100\n",
      "  Batch    50  of     62.\n",
      "\n",
      "Evaluating...\n",
      "\n",
      "Training Loss: 0.47408184745619375\n",
      "Validation Loss: 0.4355577124016626\n",
      "\n",
      " Epoch 56 / 100\n",
      "  Batch    50  of     62.\n",
      "\n",
      "Evaluating...\n",
      "\n",
      "Training Loss: 0.4719146629495005\n",
      "Validation Loss: 0.4307883232831955\n",
      "\n",
      " Epoch 57 / 100\n",
      "  Batch    50  of     62.\n",
      "\n",
      "Evaluating...\n",
      "\n",
      "Training Loss: 0.4702314128798823\n",
      "Validation Loss: 0.4296093646969114\n",
      "\n",
      " Epoch 58 / 100\n",
      "  Batch    50  of     62.\n",
      "\n",
      "Evaluating...\n",
      "\n",
      "Training Loss: 0.4633274121630576\n",
      "Validation Loss: 0.4219406843185425\n",
      "\n",
      " Epoch 59 / 100\n",
      "  Batch    50  of     62.\n",
      "\n",
      "Evaluating...\n",
      "\n",
      "Training Loss: 0.46150586009025574\n",
      "Validation Loss: 0.4179697803088597\n",
      "\n",
      " Epoch 60 / 100\n",
      "  Batch    50  of     62.\n",
      "\n",
      "Evaluating...\n",
      "\n",
      "Training Loss: 0.4548664597734328\n",
      "Validation Loss: 0.4134607655661447\n",
      "\n",
      " Epoch 61 / 100\n",
      "  Batch    50  of     62.\n",
      "\n",
      "Evaluating...\n",
      "\n",
      "Training Loss: 0.45141335168192465\n",
      "Validation Loss: 0.41026296998773304\n",
      "\n",
      " Epoch 62 / 100\n",
      "  Batch    50  of     62.\n",
      "\n",
      "Evaluating...\n",
      "\n",
      "Training Loss: 0.45208284643388563\n",
      "Validation Loss: 0.4053444947515215\n",
      "\n",
      " Epoch 63 / 100\n",
      "  Batch    50  of     62.\n",
      "\n",
      "Evaluating...\n",
      "\n",
      "Training Loss: 0.4443150975050465\n",
      "Validation Loss: 0.40330822127205984\n",
      "\n",
      " Epoch 64 / 100\n",
      "  Batch    50  of     62.\n",
      "\n",
      "Evaluating...\n",
      "\n",
      "Training Loss: 0.4404743289755237\n",
      "Validation Loss: 0.3972064086369106\n",
      "\n",
      " Epoch 65 / 100\n",
      "  Batch    50  of     62.\n",
      "\n",
      "Evaluating...\n",
      "\n",
      "Training Loss: 0.4377694620240119\n",
      "Validation Loss: 0.3942490837403706\n",
      "\n",
      " Epoch 66 / 100\n",
      "  Batch    50  of     62.\n",
      "\n",
      "Evaluating...\n",
      "\n",
      "Training Loss: 0.43546064774836263\n",
      "Validation Loss: 0.3889520743063518\n",
      "\n",
      " Epoch 67 / 100\n",
      "  Batch    50  of     62.\n",
      "\n",
      "Evaluating...\n",
      "\n",
      "Training Loss: 0.4282716853964713\n",
      "Validation Loss: 0.3850984807525362\n",
      "\n",
      " Epoch 68 / 100\n",
      "  Batch    50  of     62.\n",
      "\n",
      "Evaluating...\n",
      "\n",
      "Training Loss: 0.4243525752136784\n",
      "Validation Loss: 0.37956422354493824\n",
      "\n",
      " Epoch 69 / 100\n",
      "  Batch    50  of     62.\n",
      "\n",
      "Evaluating...\n",
      "\n",
      "Training Loss: 0.425806519485289\n",
      "Validation Loss: 0.3765595725604466\n",
      "\n",
      " Epoch 70 / 100\n",
      "  Batch    50  of     62.\n",
      "\n",
      "Evaluating...\n",
      "\n",
      "Training Loss: 0.4168210601614368\n",
      "Validation Loss: 0.3725129153047289\n",
      "\n",
      " Epoch 71 / 100\n",
      "  Batch    50  of     62.\n",
      "\n",
      "Evaluating...\n",
      "\n",
      "Training Loss: 0.4158971477900782\n",
      "Validation Loss: 0.37134018753256115\n",
      "\n",
      " Epoch 72 / 100\n",
      "  Batch    50  of     62.\n",
      "\n",
      "Evaluating...\n",
      "\n",
      "Training Loss: 0.4122866055657787\n",
      "Validation Loss: 0.3660777360200882\n",
      "\n",
      " Epoch 73 / 100\n",
      "  Batch    50  of     62.\n",
      "\n",
      "Evaluating...\n",
      "\n",
      "Training Loss: 0.4060992622567761\n",
      "Validation Loss: 0.36212129039423807\n",
      "\n",
      " Epoch 74 / 100\n",
      "  Batch    50  of     62.\n",
      "\n",
      "Evaluating...\n",
      "\n",
      "Training Loss: 0.40188192792477145\n",
      "Validation Loss: 0.3587786321129118\n",
      "\n",
      " Epoch 75 / 100\n",
      "  Batch    50  of     62.\n",
      "\n",
      "Evaluating...\n",
      "\n",
      "Training Loss: 0.40260793557090147\n",
      "Validation Loss: 0.3556363454886845\n",
      "\n",
      " Epoch 76 / 100\n",
      "  Batch    50  of     62.\n",
      "\n",
      "Evaluating...\n",
      "\n",
      "Training Loss: 0.40322241715846524\n",
      "Validation Loss: 0.3514011353254318\n",
      "\n",
      " Epoch 77 / 100\n",
      "  Batch    50  of     62.\n",
      "\n",
      "Evaluating...\n",
      "\n",
      "Training Loss: 0.39615158880910567\n",
      "Validation Loss: 0.34940495448453085\n",
      "\n",
      " Epoch 78 / 100\n",
      "  Batch    50  of     62.\n",
      "\n",
      "Evaluating...\n",
      "\n",
      "Training Loss: 0.3928338375783736\n",
      "Validation Loss: 0.34509769082069397\n",
      "\n",
      " Epoch 79 / 100\n",
      "  Batch    50  of     62.\n",
      "\n",
      "Evaluating...\n",
      "\n",
      "Training Loss: 0.39304802735005656\n",
      "Validation Loss: 0.3423802724906376\n",
      "\n",
      " Epoch 80 / 100\n",
      "  Batch    50  of     62.\n",
      "\n",
      "Evaluating...\n",
      "\n",
      "Training Loss: 0.38572738151396474\n",
      "Validation Loss: 0.339596546122006\n",
      "\n",
      " Epoch 81 / 100\n",
      "  Batch    50  of     62.\n",
      "\n",
      "Evaluating...\n",
      "\n",
      "Training Loss: 0.3833875261968182\n",
      "Validation Loss: 0.3369562817471368\n",
      "\n",
      " Epoch 82 / 100\n",
      "  Batch    50  of     62.\n",
      "\n",
      "Evaluating...\n",
      "\n",
      "Training Loss: 0.38097719030995525\n",
      "Validation Loss: 0.3317586375134332\n",
      "\n",
      " Epoch 83 / 100\n",
      "  Batch    50  of     62.\n",
      "\n",
      "Evaluating...\n",
      "\n",
      "Training Loss: 0.3797598884951684\n",
      "Validation Loss: 0.32942646954740795\n",
      "\n",
      " Epoch 84 / 100\n",
      "  Batch    50  of     62.\n",
      "\n",
      "Evaluating...\n",
      "\n",
      "Training Loss: 0.381297912328474\n",
      "Validation Loss: 0.3271199124200003\n",
      "\n",
      " Epoch 85 / 100\n",
      "  Batch    50  of     62.\n",
      "\n",
      "Evaluating...\n",
      "\n",
      "Training Loss: 0.3726073316028041\n",
      "Validation Loss: 0.3230288880211966\n",
      "\n",
      " Epoch 86 / 100\n",
      "  Batch    50  of     62.\n",
      "\n",
      "Evaluating...\n",
      "\n",
      "Training Loss: 0.3733979069417523\n",
      "Validation Loss: 0.3208583210195814\n",
      "\n",
      " Epoch 87 / 100\n",
      "  Batch    50  of     62.\n",
      "\n",
      "Evaluating...\n",
      "\n",
      "Training Loss: 0.3691604594069143\n",
      "Validation Loss: 0.3179579994508198\n",
      "\n",
      " Epoch 88 / 100\n",
      "  Batch    50  of     62.\n",
      "\n",
      "Evaluating...\n",
      "\n",
      "Training Loss: 0.3715422763939827\n",
      "Validation Loss: 0.31619096228054594\n",
      "\n",
      " Epoch 89 / 100\n",
      "  Batch    50  of     62.\n",
      "\n",
      "Evaluating...\n",
      "\n",
      "Training Loss: 0.36070742386002697\n",
      "Validation Loss: 0.3131261680807386\n",
      "\n",
      " Epoch 90 / 100\n",
      "  Batch    50  of     62.\n",
      "\n",
      "Evaluating...\n",
      "\n",
      "Training Loss: 0.359139395336951\n",
      "Validation Loss: 0.31163873842784334\n",
      "\n",
      " Epoch 91 / 100\n",
      "  Batch    50  of     62.\n",
      "\n",
      "Evaluating...\n",
      "\n",
      "Training Loss: 0.3606533706188202\n",
      "Validation Loss: 0.3066916401897158\n",
      "\n",
      " Epoch 92 / 100\n",
      "  Batch    50  of     62.\n",
      "\n",
      "Evaluating...\n",
      "\n",
      "Training Loss: 0.3523764927541056\n",
      "Validation Loss: 0.3042978910463197\n",
      "\n",
      " Epoch 93 / 100\n",
      "  Batch    50  of     62.\n",
      "\n",
      "Evaluating...\n",
      "\n",
      "Training Loss: 0.3561380861266967\n",
      "Validation Loss: 0.30311791598796844\n",
      "\n",
      " Epoch 94 / 100\n",
      "  Batch    50  of     62.\n",
      "\n",
      "Evaluating...\n",
      "\n",
      "Training Loss: 0.35511694608196137\n",
      "Validation Loss: 0.29880089525665554\n",
      "\n",
      " Epoch 95 / 100\n",
      "  Batch    50  of     62.\n",
      "\n",
      "Evaluating...\n",
      "\n",
      "Training Loss: 0.35072464231521855\n",
      "Validation Loss: 0.29632898420095444\n",
      "\n",
      " Epoch 96 / 100\n",
      "  Batch    50  of     62.\n",
      "\n",
      "Evaluating...\n",
      "\n",
      "Training Loss: 0.3504011486807177\n",
      "Validation Loss: 0.2931276953646115\n",
      "\n",
      " Epoch 97 / 100\n",
      "  Batch    50  of     62.\n",
      "\n",
      "Evaluating...\n",
      "\n",
      "Training Loss: 0.34254682304397704\n",
      "Validation Loss: 0.2957861359630312\n",
      "\n",
      " Epoch 98 / 100\n",
      "  Batch    50  of     62.\n",
      "\n",
      "Evaluating...\n",
      "\n",
      "Training Loss: 0.3407739989699856\n",
      "Validation Loss: 0.2896047532558441\n",
      "\n",
      " Epoch 99 / 100\n",
      "  Batch    50  of     62.\n",
      "\n",
      "Evaluating...\n",
      "\n",
      "Training Loss: 0.3403243350405847\n",
      "Validation Loss: 0.28774319908448626\n",
      "\n",
      " Epoch 100 / 100\n",
      "  Batch    50  of     62.\n",
      "\n",
      "Evaluating...\n",
      "\n",
      "Training Loss: 0.33939016105667236\n",
      "Validation Loss: 0.2847051737563951\n"
     ]
    }
   ],
   "source": [
    "# set initial loss to infinite\n",
    "best_valid_loss = float('inf')\n",
    "\n",
    "# empty lists to store training and validation loss of each epoch\n",
    "train_losses=[]\n",
    "valid_losses=[]\n",
    "\n",
    "#for each epoch\n",
    "for epoch in range(epochs):\n",
    "     \n",
    "    print('\\n Epoch {:} / {:}'.format(epoch + 1, epochs))\n",
    "    \n",
    "    #train model\n",
    "    train_loss, _ = train()\n",
    "    \n",
    "    #evaluate model\n",
    "    valid_loss, _ = evaluate()\n",
    "    \n",
    "    #save the best model\n",
    "    if valid_loss < best_valid_loss:\n",
    "        best_valid_loss = valid_loss\n",
    "        torch.save(model.state_dict(), 'saved_weights.pt')\n",
    "    \n",
    "    # append training and validation loss\n",
    "    train_losses.append(train_loss)\n",
    "    valid_losses.append(valid_loss)\n",
    "    \n",
    "    print('\\nTraining Loss: {}'.format(train_loss))\n",
    "    print('Validation Loss: {}'.format(valid_loss))\n",
    "     "
   ]
  },
  {
   "cell_type": "markdown",
   "id": "7b9451ae",
   "metadata": {
    "papermill": {
     "duration": 0.040172,
     "end_time": "2024-03-23T04:54:52.871304",
     "exception": false,
     "start_time": "2024-03-23T04:54:52.831132",
     "status": "completed"
    },
    "tags": []
   },
   "source": [
    "<div style=\"color:white; background-color:#5642C5; padding: 10px; border-radius: 15px; font-size: 150%; font-family: Verdana; text-align:center; -webkit-text-stroke-width: 1px; -webkit-text-stroke-color: black; text-shadow: 2px 2px 4px rgba(0, 0, 0, 0.7);\">\n",
    "   Training Graph\n",
    "</div>\n"
   ]
  },
  {
   "cell_type": "code",
   "execution_count": 25,
   "id": "0241ea2f",
   "metadata": {
    "execution": {
     "iopub.execute_input": "2024-03-23T04:54:52.953762Z",
     "iopub.status.busy": "2024-03-23T04:54:52.953133Z",
     "iopub.status.idle": "2024-03-23T04:54:53.222924Z",
     "shell.execute_reply": "2024-03-23T04:54:53.222010Z"
    },
    "papermill": {
     "duration": 0.312774,
     "end_time": "2024-03-23T04:54:53.224920",
     "exception": false,
     "start_time": "2024-03-23T04:54:52.912146",
     "status": "completed"
    },
    "tags": []
   },
   "outputs": [
    {
     "data": {
      "image/png": "[encoded data removed]",
      "text/plain": [
       "<Figure size 640x480 with 1 Axes>"
      ]
     },
     "metadata": {},
     "output_type": "display_data"
    }
   ],
   "source": [
    "from matplotlib import pyplot as plt\n",
    "plt.plot(train_losses,color = 'red',label = 'train_loss')\n",
    "plt.plot(valid_losses,color = 'green',label = 'valid_loss')\n",
    "plt.grid()\n",
    "plt.legend()\n",
    "plt.show()"
   ]
  },
  {
   "cell_type": "markdown",
   "id": "fe633601",
   "metadata": {
    "papermill": {
     "duration": 0.039704,
     "end_time": "2024-03-23T04:54:53.306085",
     "exception": false,
     "start_time": "2024-03-23T04:54:53.266381",
     "status": "completed"
    },
    "tags": []
   },
   "source": [
    "<div style=\"color:white; background-color:#5642C5; padding: 10px; border-radius: 15px; font-size: 150%; font-family: Verdana; text-align:center; -webkit-text-stroke-width: 1px; -webkit-text-stroke-color: black; text-shadow: 2px 2px 4px rgba(0, 0, 0, 0.7);\">\n",
    "   Saving The Models\n",
    "</div>\n"
   ]
  },
  {
   "cell_type": "code",
   "execution_count": 26,
   "id": "d8661a60",
   "metadata": {
    "execution": {
     "iopub.execute_input": "2024-03-23T04:54:53.391668Z",
     "iopub.status.busy": "2024-03-23T04:54:53.390806Z",
     "iopub.status.idle": "2024-03-23T04:54:53.746493Z",
     "shell.execute_reply": "2024-03-23T04:54:53.745483Z"
    },
    "papermill": {
     "duration": 0.40336,
     "end_time": "2024-03-23T04:54:53.748747",
     "exception": false,
     "start_time": "2024-03-23T04:54:53.345387",
     "status": "completed"
    },
    "tags": []
   },
   "outputs": [
    {
     "data": {
      "text/plain": [
       "<All keys matched successfully>"
      ]
     },
     "execution_count": 26,
     "metadata": {},
     "output_type": "execute_result"
    }
   ],
   "source": [
    "#load weights of best model\n",
    "path = 'saved_weights.pt'\n",
    "model.load_state_dict(torch.load(path))"
   ]
  },
  {
   "cell_type": "markdown",
   "id": "7d16265b",
   "metadata": {
    "papermill": {
     "duration": 0.039504,
     "end_time": "2024-03-23T04:54:53.831572",
     "exception": false,
     "start_time": "2024-03-23T04:54:53.792068",
     "status": "completed"
    },
    "tags": []
   },
   "source": [
    "<div style=\"color:white; background-color:#5642C5; padding: 10px; border-radius: 15px; font-size: 150%; font-family: Verdana; text-align:center; -webkit-text-stroke-width: 1px; -webkit-text-stroke-color: black; text-shadow: 2px 2px 4px rgba(0, 0, 0, 0.7);\">\n",
    "   Prediction\n",
    "</div>\n"
   ]
  },
  {
   "cell_type": "code",
   "execution_count": 27,
   "id": "3739b020",
   "metadata": {
    "execution": {
     "iopub.execute_input": "2024-03-23T04:54:53.917407Z",
     "iopub.status.busy": "2024-03-23T04:54:53.917009Z",
     "iopub.status.idle": "2024-03-23T04:54:54.701464Z",
     "shell.execute_reply": "2024-03-23T04:54:54.700647Z"
    },
    "papermill": {
     "duration": 0.830126,
     "end_time": "2024-03-23T04:54:54.703882",
     "exception": false,
     "start_time": "2024-03-23T04:54:53.873756",
     "status": "completed"
    },
    "tags": []
   },
   "outputs": [],
   "source": [
    "# get predictions for test data\n",
    "with torch.no_grad():\n",
    "  preds = model(test_seq.to(device), test_mask.to(device))\n",
    "  preds = preds.detach().cpu().numpy()"
   ]
  },
  {
   "cell_type": "code",
   "execution_count": 28,
   "id": "2c9bbe15",
   "metadata": {
    "execution": {
     "iopub.execute_input": "2024-03-23T04:54:54.788296Z",
     "iopub.status.busy": "2024-03-23T04:54:54.787563Z",
     "iopub.status.idle": "2024-03-23T04:54:54.792100Z",
     "shell.execute_reply": "2024-03-23T04:54:54.791169Z"
    },
    "papermill": {
     "duration": 0.048424,
     "end_time": "2024-03-23T04:54:54.794192",
     "exception": false,
     "start_time": "2024-03-23T04:54:54.745768",
     "status": "completed"
    },
    "tags": []
   },
   "outputs": [],
   "source": [
    "from sklearn.metrics import classification_report,accuracy_score"
   ]
  },
  {
   "cell_type": "markdown",
   "id": "71550578",
   "metadata": {
    "papermill": {
     "duration": 0.042277,
     "end_time": "2024-03-23T04:54:54.880545",
     "exception": false,
     "start_time": "2024-03-23T04:54:54.838268",
     "status": "completed"
    },
    "tags": []
   },
   "source": [
    "<div style=\"color:white; background-color:#5642C5; padding: 10px; border-radius: 15px; font-size: 150%; font-family: Verdana; text-align:center; -webkit-text-stroke-width: 1px; -webkit-text-stroke-color: black; text-shadow: 2px 2px 4px rgba(0, 0, 0, 0.7);\">\n",
    "   Evaluation\n",
    "</div>\n"
   ]
  },
  {
   "cell_type": "code",
   "execution_count": 29,
   "id": "7aa2c227",
   "metadata": {
    "execution": {
     "iopub.execute_input": "2024-03-23T04:54:54.972746Z",
     "iopub.status.busy": "2024-03-23T04:54:54.972385Z",
     "iopub.status.idle": "2024-03-23T04:54:55.003238Z",
     "shell.execute_reply": "2024-03-23T04:54:55.002165Z"
    },
    "papermill": {
     "duration": 0.083641,
     "end_time": "2024-03-23T04:54:55.005606",
     "exception": false,
     "start_time": "2024-03-23T04:54:54.921965",
     "status": "completed"
    },
    "tags": []
   },
   "outputs": [
    {
     "name": "stdout",
     "output_type": "stream",
     "text": [
      "Classification Report:\n",
      "              precision    recall  f1-score   support\n",
      "\n",
      "           0       0.88      0.92      0.90       370\n",
      "           1       0.93      0.91      0.92       481\n",
      "\n",
      "    accuracy                           0.91       851\n",
      "   macro avg       0.91      0.91      0.91       851\n",
      "weighted avg       0.91      0.91      0.91       851\n",
      "\n",
      "Accuracy: 0.9106933019976499\n"
     ]
    }
   ],
   "source": [
    "pred = np.argmax(preds, axis = 1)\n",
    "# Calculate classification report and accuracy\n",
    "report = classification_report(test_y, pred, output_dict=True)\n",
    "accuracy = accuracy_score(test_y, pred)\n",
    "\n",
    "# Print classification report\n",
    "print(\"Classification Report:\")\n",
    "print(classification_report(test_y, pred))\n",
    "\n",
    "# Print accuracy\n",
    "print(\"Accuracy:\", accuracy)\n"
   ]
  },
  {
   "cell_type": "code",
   "execution_count": 30,
   "id": "6352f16b",
   "metadata": {
    "execution": {
     "iopub.execute_input": "2024-03-23T04:54:55.102765Z",
     "iopub.status.busy": "2024-03-23T04:54:55.102023Z",
     "iopub.status.idle": "2024-03-23T04:54:55.118094Z",
     "shell.execute_reply": "2024-03-23T04:54:55.116741Z"
    },
    "papermill": {
     "duration": 0.064519,
     "end_time": "2024-03-23T04:54:55.120576",
     "exception": false,
     "start_time": "2024-03-23T04:54:55.056057",
     "status": "completed"
    },
    "tags": []
   },
   "outputs": [
    {
     "name": "stdout",
     "output_type": "stream",
     "text": [
      "\n",
      "Metrics DataFrame:\n"
     ]
    },
    {
     "data": {
      "text/html": [
       "<div>\n",
       "<style scoped>\n",
       "    .dataframe tbody tr th:only-of-type {\n",
       "        vertical-align: middle;\n",
       "    }\n",
       "\n",
       "    .dataframe tbody tr th {\n",
       "        vertical-align: top;\n",
       "    }\n",
       "\n",
       "    .dataframe thead th {\n",
       "        text-align: right;\n",
       "    }\n",
       "</style>\n",
       "<table border=\"1\" class=\"dataframe\">\n",
       "  <thead>\n",
       "    <tr style=\"text-align: right;\">\n",
       "      <th></th>\n",
       "      <th>precision</th>\n",
       "      <th>recall</th>\n",
       "      <th>f1-score</th>\n",
       "      <th>support</th>\n",
       "    </tr>\n",
       "  </thead>\n",
       "  <tbody>\n",
       "    <tr>\n",
       "      <th>0</th>\n",
       "      <td>0.882812</td>\n",
       "      <td>0.916216</td>\n",
       "      <td>0.899204</td>\n",
       "      <td>370.000000</td>\n",
       "    </tr>\n",
       "    <tr>\n",
       "      <th>1</th>\n",
       "      <td>0.933619</td>\n",
       "      <td>0.906445</td>\n",
       "      <td>0.919831</td>\n",
       "      <td>481.000000</td>\n",
       "    </tr>\n",
       "    <tr>\n",
       "      <th>accuracy</th>\n",
       "      <td>0.910693</td>\n",
       "      <td>0.910693</td>\n",
       "      <td>0.910693</td>\n",
       "      <td>0.910693</td>\n",
       "    </tr>\n",
       "    <tr>\n",
       "      <th>macro avg</th>\n",
       "      <td>0.908216</td>\n",
       "      <td>0.911331</td>\n",
       "      <td>0.909518</td>\n",
       "      <td>851.000000</td>\n",
       "    </tr>\n",
       "    <tr>\n",
       "      <th>weighted avg</th>\n",
       "      <td>0.911529</td>\n",
       "      <td>0.910693</td>\n",
       "      <td>0.910863</td>\n",
       "      <td>851.000000</td>\n",
       "    </tr>\n",
       "  </tbody>\n",
       "</table>\n",
       "</div>"
      ],
      "text/plain": [
       "              precision    recall  f1-score     support\n",
       "0              0.882812  0.916216  0.899204  370.000000\n",
       "1              0.933619  0.906445  0.919831  481.000000\n",
       "accuracy       0.910693  0.910693  0.910693    0.910693\n",
       "macro avg      0.908216  0.911331  0.909518  851.000000\n",
       "weighted avg   0.911529  0.910693  0.910863  851.000000"
      ]
     },
     "execution_count": 30,
     "metadata": {},
     "output_type": "execute_result"
    }
   ],
   "source": [
    "# Create a DataFrame to store metrics\n",
    "metrics_df = pd.DataFrame(report).transpose()\n",
    "\n",
    "# Add accuracy to the DataFrame\n",
    "metrics_df.loc['accuracy'] = accuracy\n",
    "\n",
    "# Display the DataFrame\n",
    "print(\"\\nMetrics DataFrame:\")\n",
    "metrics_df"
   ]
  },
  {
   "cell_type": "markdown",
   "id": "53907e23",
   "metadata": {
    "papermill": {
     "duration": 0.042421,
     "end_time": "2024-03-23T04:54:55.206534",
     "exception": false,
     "start_time": "2024-03-23T04:54:55.164113",
     "status": "completed"
    },
    "tags": []
   },
   "source": [
    "<div style=\"color:white; background-color:#5642C5; padding: 10px; border-radius: 15px; font-size: 150%; font-family: Verdana; text-align:center; -webkit-text-stroke-width: 1px; -webkit-text-stroke-color: black; text-shadow: 2px 2px 4px rgba(0, 0, 0, 0.7);\">\n",
    "   Prediction Sample\n",
    "</div>\n"
   ]
  },
  {
   "cell_type": "code",
   "execution_count": 31,
   "id": "cdfde256",
   "metadata": {
    "execution": {
     "iopub.execute_input": "2024-03-23T04:54:55.289177Z",
     "iopub.status.busy": "2024-03-23T04:54:55.288499Z",
     "iopub.status.idle": "2024-03-23T04:54:55.295118Z",
     "shell.execute_reply": "2024-03-23T04:54:55.294295Z"
    },
    "papermill": {
     "duration": 0.04921,
     "end_time": "2024-03-23T04:54:55.297007",
     "exception": false,
     "start_time": "2024-03-23T04:54:55.247797",
     "status": "completed"
    },
    "tags": []
   },
   "outputs": [
    {
     "data": {
      "text/plain": [
       "array(['negative', 'negative', 'True', 'True', 'negative', 'negative',\n",
       "       'True', 'True', 'True', 'negative', 'negative', 'negative', 'True',\n",
       "       'negative', 'negative', 'True', 'negative', 'True', 'negative',\n",
       "       'True', 'True', 'negative', 'negative', 'negative', 'True',\n",
       "       'negative', 'True', 'True', 'negative', 'True', 'negative',\n",
       "       'negative', 'negative', 'negative', 'negative', 'negative',\n",
       "       'negative', 'negative', 'True', 'True', 'negative', 'True', 'True',\n",
       "       'True', 'True', 'negative', 'negative', 'True', 'True', 'True'],\n",
       "      dtype='<U8')"
      ]
     },
     "execution_count": 31,
     "metadata": {},
     "output_type": "execute_result"
    }
   ],
   "source": [
    "def convert_predictions(binary_predictions):\n",
    "    return np.where(binary_predictions == 0, \"negative\", \"True\")\n",
    "pred_mapped = convert_predictions(pred)\n",
    "pred_mapped[:50]"
   ]
  },
  {
   "cell_type": "code",
   "execution_count": null,
   "id": "a149719d",
   "metadata": {
    "papermill": {
     "duration": 0.040348,
     "end_time": "2024-03-23T04:54:55.378252",
     "exception": false,
     "start_time": "2024-03-23T04:54:55.337904",
     "status": "completed"
    },
    "tags": []
   },
   "outputs": [],
   "source": []
  }
 ],
 "metadata": {
  "kaggle": {
   "accelerator": "nvidiaTeslaT4",
   "dataSources": [
    {
     "datasetId": 4652006,
     "sourceId": 7917046,
     "sourceType": "datasetVersion"
    }
   ],
   "dockerImageVersionId": 30674,
   "isGpuEnabled": true,
   "isInternetEnabled": true,
   "language": "python",
   "sourceType": "notebook"
  },
  "kernelspec": {
   "display_name": "Python 3",
   "language": "python",
   "name": "python3"
  },
  "language_info": {
   "codemirror_mode": {
    "name": "ipython",
    "version": 3
   },
   "file_extension": ".py",
   "mimetype": "text/x-python",
   "name": "python",
   "nbconvert_exporter": "python",
   "pygments_lexer": "ipython3",
   "version": "3.10.13"
  },
  "papermill": {
   "default_parameters": {},
   "duration": 638.767468,
   "end_time": "2024-03-23T04:54:58.165001",
   "environment_variables": {},
   "exception": null,
   "input_path": "__notebook__.ipynb",
   "output_path": "__notebook__.ipynb",
   "parameters": {},
   "start_time": "2024-03-23T04:44:19.397533",
   "version": "2.5.0"
  },
  "widgets": {
   "application/vnd.jupyter.widget-state+json": {
    "state": {
     "02850ce23e3e43848632010fda5cc3c4": {
      "model_module": "@jupyter-widgets/base",
      "model_module_version": "1.2.0",
      "model_name": "LayoutModel",
      "state": {
       "_model_module": "@jupyter-widgets/base",
       "_model_module_version": "1.2.0",
       "_model_name": "LayoutModel",
       "_view_count": null,
       "_view_module": "@jupyter-widgets/base",
       "_view_module_version": "1.2.0",
       "_view_name": "LayoutView",
       "align_content": null,
       "align_items": null,
       "align_self": null,
       "border": null,
       "bottom": null,
       "display": null,
       "flex": null,
       "flex_flow": null,
       "grid_area": null,
       "grid_auto_columns": null,
       "grid_auto_flow": null,
       "grid_auto_rows": null,
       "grid_column": null,
       "grid_gap": null,
       "grid_row": null,
       "grid_template_areas": null,
       "grid_template_columns": null,
       "grid_template_rows": null,
       "height": null,
       "justify_content": null,
       "justify_items": null,
       "left": null,
       "margin": null,
       "max_height": null,
       "max_width": null,
       "min_height": null,
       "min_width": null,
       "object_fit": null,
       "object_position": null,
       "order": null,
       "overflow": null,
       "overflow_x": null,
       "overflow_y": null,
       "padding": null,
       "right": null,
       "top": null,
       "visibility": null,
       "width": null
      }
     },
     "03f95cb754fc4596b4a3a750669cba85": {
      "model_module": "@jupyter-widgets/controls",
      "model_module_version": "1.5.0",
      "model_name": "HTMLModel",
      "state": {
       "_dom_classes": [],
       "_model_module": "@jupyter-widgets/controls",
       "_model_module_version": "1.5.0",
       "_model_name": "HTMLModel",
       "_view_count": null,
       "_view_module": "@jupyter-widgets/controls",
       "_view_module_version": "1.5.0",
       "_view_name": "HTMLView",
       "description": "",
       "description_tooltip": null,
       "layout": "IPY_MODEL_fc8154a62739469695e3a1c7ff696443",
       "placeholder": "​",
       "style": "IPY_MODEL_f3c3ebdffa09448ab4427f1e43579934",
       "value": "tokenizer_config.json: 100%"
      }
     },
     "144eaf7d596a4613907d07e2cc728277": {
      "model_module": "@jupyter-widgets/controls",
      "model_module_version": "1.5.0",
      "model_name": "HBoxModel",
      "state": {
       "_dom_classes": [],
       "_model_module": "@jupyter-widgets/controls",
       "_model_module_version": "1.5.0",
       "_model_name": "HBoxModel",
       "_view_count": null,
       "_view_module": "@jupyter-widgets/controls",
       "_view_module_version": "1.5.0",
       "_view_name": "HBoxView",
       "box_style": "",
       "children": [
        "IPY_MODEL_4a8e92192c67427a9885fa1227590560",
        "IPY_MODEL_3e4390338fc449d0bf28499d191bb6e7",
        "IPY_MODEL_948f825db2c04363be87741957ee21db"
       ],
       "layout": "IPY_MODEL_3da9aed258184e6a9773fa8028e31f1b"
      }
     },
     "16414b8e0bfe43d48f896da9c6d36b9b": {
      "model_module": "@jupyter-widgets/controls",
      "model_module_version": "1.5.0",
      "model_name": "ProgressStyleModel",
      "state": {
       "_model_module": "@jupyter-widgets/controls",
       "_model_module_version": "1.5.0",
       "_model_name": "ProgressStyleModel",
       "_view_count": null,
       "_view_module": "@jupyter-widgets/base",
       "_view_module_version": "1.2.0",
       "_view_name": "StyleView",
       "bar_color": null,
       "description_width": ""
      }
     },
     "169cb9d3cd3343c9bc1009899014e4f4": {
      "model_module": "@jupyter-widgets/controls",
      "model_module_version": "1.5.0",
      "model_name": "ProgressStyleModel",
      "state": {
       "_model_module": "@jupyter-widgets/controls",
       "_model_module_version": "1.5.0",
       "_model_name": "ProgressStyleModel",
       "_view_count": null,
       "_view_module": "@jupyter-widgets/base",
       "_view_module_version": "1.2.0",
       "_view_name": "StyleView",
       "bar_color": null,
       "description_width": ""
      }
     },
     "17c634ac91934f62b240677da2ccd5c9": {
      "model_module": "@jupyter-widgets/base",
      "model_module_version": "1.2.0",
      "model_name": "LayoutModel",
      "state": {
       "_model_module": "@jupyter-widgets/base",
       "_model_module_version": "1.2.0",
       "_model_name": "LayoutModel",
       "_view_count": null,
       "_view_module": "@jupyter-widgets/base",
       "_view_module_version": "1.2.0",
       "_view_name": "LayoutView",
       "align_content": null,
       "align_items": null,
       "align_self": null,
       "border": null,
       "bottom": null,
       "display": null,
       "flex": null,
       "flex_flow": null,
       "grid_area": null,
       "grid_auto_columns": null,
       "grid_auto_flow": null,
       "grid_auto_rows": null,
       "grid_column": null,
       "grid_gap": null,
       "grid_row": null,
       "grid_template_areas": null,
       "grid_template_columns": null,
       "grid_template_rows": null,
       "height": null,
       "justify_content": null,
       "justify_items": null,
       "left": null,
       "margin": null,
       "max_height": null,
       "max_width": null,
       "min_height": null,
       "min_width": null,
       "object_fit": null,
       "object_position": null,
       "order": null,
       "overflow": null,
       "overflow_x": null,
       "overflow_y": null,
       "padding": null,
       "right": null,
       "top": null,
       "visibility": null,
       "width": null
      }
     },
     "1921f23a960848b7897f7bf50acb5731": {
      "model_module": "@jupyter-widgets/controls",
      "model_module_version": "1.5.0",
      "model_name": "FloatProgressModel",
      "state": {
       "_dom_classes": [],
       "_model_module": "@jupyter-widgets/controls",
       "_model_module_version": "1.5.0",
       "_model_name": "FloatProgressModel",
       "_view_count": null,
       "_view_module": "@jupyter-widgets/controls",
       "_view_module_version": "1.5.0",
       "_view_name": "ProgressView",
       "bar_style": "success",
       "description": "",
       "description_tooltip": null,
       "layout": "IPY_MODEL_5d7759f9f82c445f9aefe4a6dcb1b2f5",
       "max": 48.0,
       "min": 0.0,
       "orientation": "horizontal",
       "style": "IPY_MODEL_6f794145184440b680fa284ef98ceca2",
       "value": 48.0
      }
     },
     "19238d8576b64b6a98f977da1b976471": {
      "model_module": "@jupyter-widgets/controls",
      "model_module_version": "1.5.0",
      "model_name": "ProgressStyleModel",
      "state": {
       "_model_module": "@jupyter-widgets/controls",
       "_model_module_version": "1.5.0",
       "_model_name": "ProgressStyleModel",
       "_view_count": null,
       "_view_module": "@jupyter-widgets/base",
       "_view_module_version": "1.2.0",
       "_view_name": "StyleView",
       "bar_color": null,
       "description_width": ""
      }
     },
     "1968654013844d00be0fdebdc11fa4ba": {
      "model_module": "@jupyter-widgets/base",
      "model_module_version": "1.2.0",
      "model_name": "LayoutModel",
      "state": {
       "_model_module": "@jupyter-widgets/base",
       "_model_module_version": "1.2.0",
       "_model_name": "LayoutModel",
       "_view_count": null,
       "_view_module": "@jupyter-widgets/base",
       "_view_module_version": "1.2.0",
       "_view_name": "LayoutView",
       "align_content": null,
       "align_items": null,
       "align_self": null,
       "border": null,
       "bottom": null,
       "display": null,
       "flex": null,
       "flex_flow": null,
       "grid_area": null,
       "grid_auto_columns": null,
       "grid_auto_flow": null,
       "grid_auto_rows": null,
       "grid_column": null,
       "grid_gap": null,
       "grid_row": null,
       "grid_template_areas": null,
       "grid_template_columns": null,
       "grid_template_rows": null,
       "height": null,
       "justify_content": null,
       "justify_items": null,
       "left": null,
       "margin": null,
       "max_height": null,
       "max_width": null,
       "min_height": null,
       "min_width": null,
       "object_fit": null,
       "object_position": null,
       "order": null,
       "overflow": null,
       "overflow_x": null,
       "overflow_y": null,
       "padding": null,
       "right": null,
       "top": null,
       "visibility": null,
       "width": null
      }
     },
     "1a9f427d528547d6aa4b37a5d7853c08": {
      "model_module": "@jupyter-widgets/controls",
      "model_module_version": "1.5.0",
      "model_name": "HBoxModel",
      "state": {
       "_dom_classes": [],
       "_model_module": "@jupyter-widgets/controls",
       "_model_module_version": "1.5.0",
       "_model_name": "HBoxModel",
       "_view_count": null,
       "_view_module": "@jupyter-widgets/controls",
       "_view_module_version": "1.5.0",
       "_view_name": "HBoxView",
       "box_style": "",
       "children": [
        "IPY_MODEL_242f3902a8ff4a0fabee6a4384099660",
        "IPY_MODEL_1d4e9866e08b4fc39b2895e0786d96b3",
        "IPY_MODEL_6c35ed73419244198f32c4a7b600ddec"
       ],
       "layout": "IPY_MODEL_64c00285c2cc40419b31bc97210e185e"
      }
     },
     "1c2113a50845402d89afb78818bc050e": {
      "model_module": "@jupyter-widgets/base",
      "model_module_version": "1.2.0",
      "model_name": "LayoutModel",
      "state": {
       "_model_module": "@jupyter-widgets/base",
       "_model_module_version": "1.2.0",
       "_model_name": "LayoutModel",
       "_view_count": null,
       "_view_module": "@jupyter-widgets/base",
       "_view_module_version": "1.2.0",
       "_view_name": "LayoutView",
       "align_content": null,
       "align_items": null,
       "align_self": null,
       "border": null,
       "bottom": null,
       "display": null,
       "flex": null,
       "flex_flow": null,
       "grid_area": null,
       "grid_auto_columns": null,
       "grid_auto_flow": null,
       "grid_auto_rows": null,
       "grid_column": null,
       "grid_gap": null,
       "grid_row": null,
       "grid_template_areas": null,
       "grid_template_columns": null,
       "grid_template_rows": null,
       "height": null,
       "justify_content": null,
       "justify_items": null,
       "left": null,
       "margin": null,
       "max_height": null,
       "max_width": null,
       "min_height": null,
       "min_width": null,
       "object_fit": null,
       "object_position": null,
       "order": null,
       "overflow": null,
       "overflow_x": null,
       "overflow_y": null,
       "padding": null,
       "right": null,
       "top": null,
       "visibility": null,
       "width": null
      }
     },
     "1d4e9866e08b4fc39b2895e0786d96b3": {
      "model_module": "@jupyter-widgets/controls",
      "model_module_version": "1.5.0",
      "model_name": "FloatProgressModel",
      "state": {
       "_dom_classes": [],
       "_model_module": "@jupyter-widgets/controls",
       "_model_module_version": "1.5.0",
       "_model_name": "FloatProgressModel",
       "_view_count": null,
       "_view_module": "@jupyter-widgets/controls",
       "_view_module_version": "1.5.0",
       "_view_name": "ProgressView",
       "bar_style": "success",
       "description": "",
       "description_tooltip": null,
       "layout": "IPY_MODEL_02850ce23e3e43848632010fda5cc3c4",
       "max": 440449768.0,
       "min": 0.0,
       "orientation": "horizontal",
       "style": "IPY_MODEL_93b16daa1fa74084bcd1b89f6ac6fd8d",
       "value": 440449768.0
      }
     },
     "242f3902a8ff4a0fabee6a4384099660": {
      "model_module": "@jupyter-widgets/controls",
      "model_module_version": "1.5.0",
      "model_name": "HTMLModel",
      "state": {
       "_dom_classes": [],
       "_model_module": "@jupyter-widgets/controls",
       "_model_module_version": "1.5.0",
       "_model_name": "HTMLModel",
       "_view_count": null,
       "_view_module": "@jupyter-widgets/controls",
       "_view_module_version": "1.5.0",
       "_view_name": "HTMLView",
       "description": "",
       "description_tooltip": null,
       "layout": "IPY_MODEL_e029547348f74eef8a944c32ddb277c6",
       "placeholder": "​",
       "style": "IPY_MODEL_43694033235f4e6a847039580c9e0f28",
       "value": "model.safetensors: 100%"
      }
     },
     "2a5ab49a6df64823b0883dc5bd06fb70": {
      "model_module": "@jupyter-widgets/controls",
      "model_module_version": "1.5.0",
      "model_name": "DescriptionStyleModel",
      "state": {
       "_model_module": "@jupyter-widgets/controls",
       "_model_module_version": "1.5.0",
       "_model_name": "DescriptionStyleModel",
       "_view_count": null,
       "_view_module": "@jupyter-widgets/base",
       "_view_module_version": "1.2.0",
       "_view_name": "StyleView",
       "description_width": ""
      }
     },
     "2b3c7b5d122f4af1903b46b26923cd89": {
      "model_module": "@jupyter-widgets/base",
      "model_module_version": "1.2.0",
      "model_name": "LayoutModel",
      "state": {
       "_model_module": "@jupyter-widgets/base",
       "_model_module_version": "1.2.0",
       "_model_name": "LayoutModel",
       "_view_count": null,
       "_view_module": "@jupyter-widgets/base",
       "_view_module_version": "1.2.0",
       "_view_name": "LayoutView",
       "align_content": null,
       "align_items": null,
       "align_self": null,
       "border": null,
       "bottom": null,
       "display": null,
       "flex": null,
       "flex_flow": null,
       "grid_area": null,
       "grid_auto_columns": null,
       "grid_auto_flow": null,
       "grid_auto_rows": null,
       "grid_column": null,
       "grid_gap": null,
       "grid_row": null,
       "grid_template_areas": null,
       "grid_template_columns": null,
       "grid_template_rows": null,
       "height": null,
       "justify_content": null,
       "justify_items": null,
       "left": null,
       "margin": null,
       "max_height": null,
       "max_width": null,
       "min_height": null,
       "min_width": null,
       "object_fit": null,
       "object_position": null,
       "order": null,
       "overflow": null,
       "overflow_x": null,
       "overflow_y": null,
       "padding": null,
       "right": null,
       "top": null,
       "visibility": null,
       "width": null
      }
     },
     "38e75407756e487fa2c196720b337f74": {
      "model_module": "@jupyter-widgets/base",
      "model_module_version": "1.2.0",
      "model_name": "LayoutModel",
      "state": {
       "_model_module": "@jupyter-widgets/base",
       "_model_module_version": "1.2.0",
       "_model_name": "LayoutModel",
       "_view_count": null,
       "_view_module": "@jupyter-widgets/base",
       "_view_module_version": "1.2.0",
       "_view_name": "LayoutView",
       "align_content": null,
       "align_items": null,
       "align_self": null,
       "border": null,
       "bottom": null,
       "display": null,
       "flex": null,
       "flex_flow": null,
       "grid_area": null,
       "grid_auto_columns": null,
       "grid_auto_flow": null,
       "grid_auto_rows": null,
       "grid_column": null,
       "grid_gap": null,
       "grid_row": null,
       "grid_template_areas": null,
       "grid_template_columns": null,
       "grid_template_rows": null,
       "height": null,
       "justify_content": null,
       "justify_items": null,
       "left": null,
       "margin": null,
       "max_height": null,
       "max_width": null,
       "min_height": null,
       "min_width": null,
       "object_fit": null,
       "object_position": null,
       "order": null,
       "overflow": null,
       "overflow_x": null,
       "overflow_y": null,
       "padding": null,
       "right": null,
       "top": null,
       "visibility": null,
       "width": null
      }
     },
     "3da9aed258184e6a9773fa8028e31f1b": {
      "model_module": "@jupyter-widgets/base",
      "model_module_version": "1.2.0",
      "model_name": "LayoutModel",
      "state": {
       "_model_module": "@jupyter-widgets/base",
       "_model_module_version": "1.2.0",
       "_model_name": "LayoutModel",
       "_view_count": null,
       "_view_module": "@jupyter-widgets/base",
       "_view_module_version": "1.2.0",
       "_view_name": "LayoutView",
       "align_content": null,
       "align_items": null,
       "align_self": null,
       "border": null,
       "bottom": null,
       "display": null,
       "flex": null,
       "flex_flow": null,
       "grid_area": null,
       "grid_auto_columns": null,
       "grid_auto_flow": null,
       "grid_auto_rows": null,
       "grid_column": null,
       "grid_gap": null,
       "grid_row": null,
       "grid_template_areas": null,
       "grid_template_columns": null,
       "grid_template_rows": null,
       "height": null,
       "justify_content": null,
       "justify_items": null,
       "left": null,
       "margin": null,
       "max_height": null,
       "max_width": null,
       "min_height": null,
       "min_width": null,
       "object_fit": null,
       "object_position": null,
       "order": null,
       "overflow": null,
       "overflow_x": null,
       "overflow_y": null,
       "padding": null,
       "right": null,
       "top": null,
       "visibility": null,
       "width": null
      }
     },
     "3e4390338fc449d0bf28499d191bb6e7": {
      "model_module": "@jupyter-widgets/controls",
      "model_module_version": "1.5.0",
      "model_name": "FloatProgressModel",
      "state": {
       "_dom_classes": [],
       "_model_module": "@jupyter-widgets/controls",
       "_model_module_version": "1.5.0",
       "_model_name": "FloatProgressModel",
       "_view_count": null,
       "_view_module": "@jupyter-widgets/controls",
       "_view_module_version": "1.5.0",
       "_view_name": "ProgressView",
       "bar_style": "success",
       "description": "",
       "description_tooltip": null,
       "layout": "IPY_MODEL_2b3c7b5d122f4af1903b46b26923cd89",
       "max": 570.0,
       "min": 0.0,
       "orientation": "horizontal",
       "style": "IPY_MODEL_169cb9d3cd3343c9bc1009899014e4f4",
       "value": 570.0
      }
     },
     "43694033235f4e6a847039580c9e0f28": {
      "model_module": "@jupyter-widgets/controls",
      "model_module_version": "1.5.0",
      "model_name": "DescriptionStyleModel",
      "state": {
       "_model_module": "@jupyter-widgets/controls",
       "_model_module_version": "1.5.0",
       "_model_name": "DescriptionStyleModel",
       "_view_count": null,
       "_view_module": "@jupyter-widgets/base",
       "_view_module_version": "1.2.0",
       "_view_name": "StyleView",
       "description_width": ""
      }
     },
     "498caba0dc9449f5a2ca68bc39aaaab4": {
      "model_module": "@jupyter-widgets/base",
      "model_module_version": "1.2.0",
      "model_name": "LayoutModel",
      "state": {
       "_model_module": "@jupyter-widgets/base",
       "_model_module_version": "1.2.0",
       "_model_name": "LayoutModel",
       "_view_count": null,
       "_view_module": "@jupyter-widgets/base",
       "_view_module_version": "1.2.0",
       "_view_name": "LayoutView",
       "align_content": null,
       "align_items": null,
       "align_self": null,
       "border": null,
       "bottom": null,
       "display": null,
       "flex": null,
       "flex_flow": null,
       "grid_area": null,
       "grid_auto_columns": null,
       "grid_auto_flow": null,
       "grid_auto_rows": null,
       "grid_column": null,
       "grid_gap": null,
       "grid_row": null,
       "grid_template_areas": null,
       "grid_template_columns": null,
       "grid_template_rows": null,
       "height": null,
       "justify_content": null,
       "justify_items": null,
       "left": null,
       "margin": null,
       "max_height": null,
       "max_width": null,
       "min_height": null,
       "min_width": null,
       "object_fit": null,
       "object_position": null,
       "order": null,
       "overflow": null,
       "overflow_x": null,
       "overflow_y": null,
       "padding": null,
       "right": null,
       "top": null,
       "visibility": null,
       "width": null
      }
     },
     "4a8e92192c67427a9885fa1227590560": {
      "model_module": "@jupyter-widgets/controls",
      "model_module_version": "1.5.0",
      "model_name": "HTMLModel",
      "state": {
       "_dom_classes": [],
       "_model_module": "@jupyter-widgets/controls",
       "_model_module_version": "1.5.0",
       "_model_name": "HTMLModel",
       "_view_count": null,
       "_view_module": "@jupyter-widgets/controls",
       "_view_module_version": "1.5.0",
       "_view_name": "HTMLView",
       "description": "",
       "description_tooltip": null,
       "layout": "IPY_MODEL_1968654013844d00be0fdebdc11fa4ba",
       "placeholder": "​",
       "style": "IPY_MODEL_abf0be9bc134453095d151726790fabc",
       "value": "config.json: 100%"
      }
     },
     "50bb2e3d0c374dc08eeba5bf1485f664": {
      "model_module": "@jupyter-widgets/controls",
      "model_module_version": "1.5.0",
      "model_name": "FloatProgressModel",
      "state": {
       "_dom_classes": [],
       "_model_module": "@jupyter-widgets/controls",
       "_model_module_version": "1.5.0",
       "_model_name": "FloatProgressModel",
       "_view_count": null,
       "_view_module": "@jupyter-widgets/controls",
       "_view_module_version": "1.5.0",
       "_view_name": "ProgressView",
       "bar_style": "success",
       "description": "",
       "description_tooltip": null,
       "layout": "IPY_MODEL_e9181ed9f803470485fdc236b1bf7273",
       "max": 466062.0,
       "min": 0.0,
       "orientation": "horizontal",
       "style": "IPY_MODEL_16414b8e0bfe43d48f896da9c6d36b9b",
       "value": 466062.0
      }
     },
     "5a2d3c2219c64d96b69bd5d7779c4672": {
      "model_module": "@jupyter-widgets/controls",
      "model_module_version": "1.5.0",
      "model_name": "DescriptionStyleModel",
      "state": {
       "_model_module": "@jupyter-widgets/controls",
       "_model_module_version": "1.5.0",
       "_model_name": "DescriptionStyleModel",
       "_view_count": null,
       "_view_module": "@jupyter-widgets/base",
       "_view_module_version": "1.2.0",
       "_view_name": "StyleView",
       "description_width": ""
      }
     },
     "5d0ff3235895462a82ac442413782f4e": {
      "model_module": "@jupyter-widgets/controls",
      "model_module_version": "1.5.0",
      "model_name": "DescriptionStyleModel",
      "state": {
       "_model_module": "@jupyter-widgets/controls",
       "_model_module_version": "1.5.0",
       "_model_name": "DescriptionStyleModel",
       "_view_count": null,
       "_view_module": "@jupyter-widgets/base",
       "_view_module_version": "1.2.0",
       "_view_name": "StyleView",
       "description_width": ""
      }
     },
     "5d7759f9f82c445f9aefe4a6dcb1b2f5": {
      "model_module": "@jupyter-widgets/base",
      "model_module_version": "1.2.0",
      "model_name": "LayoutModel",
      "state": {
       "_model_module": "@jupyter-widgets/base",
       "_model_module_version": "1.2.0",
       "_model_name": "LayoutModel",
       "_view_count": null,
       "_view_module": "@jupyter-widgets/base",
       "_view_module_version": "1.2.0",
       "_view_name": "LayoutView",
       "align_content": null,
       "align_items": null,
       "align_self": null,
       "border": null,
       "bottom": null,
       "display": null,
       "flex": null,
       "flex_flow": null,
       "grid_area": null,
       "grid_auto_columns": null,
       "grid_auto_flow": null,
       "grid_auto_rows": null,
       "grid_column": null,
       "grid_gap": null,
       "grid_row": null,
       "grid_template_areas": null,
       "grid_template_columns": null,
       "grid_template_rows": null,
       "height": null,
       "justify_content": null,
       "justify_items": null,
       "left": null,
       "margin": null,
       "max_height": null,
       "max_width": null,
       "min_height": null,
       "min_width": null,
       "object_fit": null,
       "object_position": null,
       "order": null,
       "overflow": null,
       "overflow_x": null,
       "overflow_y": null,
       "padding": null,
       "right": null,
       "top": null,
       "visibility": null,
       "width": null
      }
     },
     "5dc8c81b92824528866f5a99ad265907": {
      "model_module": "@jupyter-widgets/base",
      "model_module_version": "1.2.0",
      "model_name": "LayoutModel",
      "state": {
       "_model_module": "@jupyter-widgets/base",
       "_model_module_version": "1.2.0",
       "_model_name": "LayoutModel",
       "_view_count": null,
       "_view_module": "@jupyter-widgets/base",
       "_view_module_version": "1.2.0",
       "_view_name": "LayoutView",
       "align_content": null,
       "align_items": null,
       "align_self": null,
       "border": null,
       "bottom": null,
       "display": null,
       "flex": null,
       "flex_flow": null,
       "grid_area": null,
       "grid_auto_columns": null,
       "grid_auto_flow": null,
       "grid_auto_rows": null,
       "grid_column": null,
       "grid_gap": null,
       "grid_row": null,
       "grid_template_areas": null,
       "grid_template_columns": null,
       "grid_template_rows": null,
       "height": null,
       "justify_content": null,
       "justify_items": null,
       "left": null,
       "margin": null,
       "max_height": null,
       "max_width": null,
       "min_height": null,
       "min_width": null,
       "object_fit": null,
       "object_position": null,
       "order": null,
       "overflow": null,
       "overflow_x": null,
       "overflow_y": null,
       "padding": null,
       "right": null,
       "top": null,
       "visibility": null,
       "width": null
      }
     },
     "63b2a90ca3a14c2aafd917ad01a57c75": {
      "model_module": "@jupyter-widgets/controls",
      "model_module_version": "1.5.0",
      "model_name": "HTMLModel",
      "state": {
       "_dom_classes": [],
       "_model_module": "@jupyter-widgets/controls",
       "_model_module_version": "1.5.0",
       "_model_name": "HTMLModel",
       "_view_count": null,
       "_view_module": "@jupyter-widgets/controls",
       "_view_module_version": "1.5.0",
       "_view_name": "HTMLView",
       "description": "",
       "description_tooltip": null,
       "layout": "IPY_MODEL_8a98cd6254104ef1a2b809f7a1f728a3",
       "placeholder": "​",
       "style": "IPY_MODEL_b0185c3767e146a7aaf519af49138255",
       "value": " 466k/466k [00:00&lt;00:00, 25.9MB/s]"
      }
     },
     "64c00285c2cc40419b31bc97210e185e": {
      "model_module": "@jupyter-widgets/base",
      "model_module_version": "1.2.0",
      "model_name": "LayoutModel",
      "state": {
       "_model_module": "@jupyter-widgets/base",
       "_model_module_version": "1.2.0",
       "_model_name": "LayoutModel",
       "_view_count": null,
       "_view_module": "@jupyter-widgets/base",
       "_view_module_version": "1.2.0",
       "_view_name": "LayoutView",
       "align_content": null,
       "align_items": null,
       "align_self": null,
       "border": null,
       "bottom": null,
       "display": null,
       "flex": null,
       "flex_flow": null,
       "grid_area": null,
       "grid_auto_columns": null,
       "grid_auto_flow": null,
       "grid_auto_rows": null,
       "grid_column": null,
       "grid_gap": null,
       "grid_row": null,
       "grid_template_areas": null,
       "grid_template_columns": null,
       "grid_template_rows": null,
       "height": null,
       "justify_content": null,
       "justify_items": null,
       "left": null,
       "margin": null,
       "max_height": null,
       "max_width": null,
       "min_height": null,
       "min_width": null,
       "object_fit": null,
       "object_position": null,
       "order": null,
       "overflow": null,
       "overflow_x": null,
       "overflow_y": null,
       "padding": null,
       "right": null,
       "top": null,
       "visibility": null,
       "width": null
      }
     },
     "66aed60cdd2d40ddabb3035d2b775f04": {
      "model_module": "@jupyter-widgets/controls",
      "model_module_version": "1.5.0",
      "model_name": "HBoxModel",
      "state": {
       "_dom_classes": [],
       "_model_module": "@jupyter-widgets/controls",
       "_model_module_version": "1.5.0",
       "_model_name": "HBoxModel",
       "_view_count": null,
       "_view_module": "@jupyter-widgets/controls",
       "_view_module_version": "1.5.0",
       "_view_name": "HBoxView",
       "box_style": "",
       "children": [
        "IPY_MODEL_a2503dc3793c494c97bbbe28ba810c7f",
        "IPY_MODEL_fe7175d6f5d64068a5020007324680bf",
        "IPY_MODEL_8a0c442bdb304c11b5e0d3307ba58d72"
       ],
       "layout": "IPY_MODEL_d919a9b02b8a48ab98e5eac1beb04c34"
      }
     },
     "66cc46a40cb7426b95b2cc796ab47ff6": {
      "model_module": "@jupyter-widgets/base",
      "model_module_version": "1.2.0",
      "model_name": "LayoutModel",
      "state": {
       "_model_module": "@jupyter-widgets/base",
       "_model_module_version": "1.2.0",
       "_model_name": "LayoutModel",
       "_view_count": null,
       "_view_module": "@jupyter-widgets/base",
       "_view_module_version": "1.2.0",
       "_view_name": "LayoutView",
       "align_content": null,
       "align_items": null,
       "align_self": null,
       "border": null,
       "bottom": null,
       "display": null,
       "flex": null,
       "flex_flow": null,
       "grid_area": null,
       "grid_auto_columns": null,
       "grid_auto_flow": null,
       "grid_auto_rows": null,
       "grid_column": null,
       "grid_gap": null,
       "grid_row": null,
       "grid_template_areas": null,
       "grid_template_columns": null,
       "grid_template_rows": null,
       "height": null,
       "justify_content": null,
       "justify_items": null,
       "left": null,
       "margin": null,
       "max_height": null,
       "max_width": null,
       "min_height": null,
       "min_width": null,
       "object_fit": null,
       "object_position": null,
       "order": null,
       "overflow": null,
       "overflow_x": null,
       "overflow_y": null,
       "padding": null,
       "right": null,
       "top": null,
       "visibility": null,
       "width": null
      }
     },
     "6c35ed73419244198f32c4a7b600ddec": {
      "model_module": "@jupyter-widgets/controls",
      "model_module_version": "1.5.0",
      "model_name": "HTMLModel",
      "state": {
       "_dom_classes": [],
       "_model_module": "@jupyter-widgets/controls",
       "_model_module_version": "1.5.0",
       "_model_name": "HTMLModel",
       "_view_count": null,
       "_view_module": "@jupyter-widgets/controls",
       "_view_module_version": "1.5.0",
       "_view_name": "HTMLView",
       "description": "",
       "description_tooltip": null,
       "layout": "IPY_MODEL_17c634ac91934f62b240677da2ccd5c9",
       "placeholder": "​",
       "style": "IPY_MODEL_dcedf5e3b37a437db48d27ca97df468b",
       "value": " 440M/440M [00:02&lt;00:00, 200MB/s]"
      }
     },
     "6d440b650755409d863c9763821c9416": {
      "model_module": "@jupyter-widgets/controls",
      "model_module_version": "1.5.0",
      "model_name": "DescriptionStyleModel",
      "state": {
       "_model_module": "@jupyter-widgets/controls",
       "_model_module_version": "1.5.0",
       "_model_name": "DescriptionStyleModel",
       "_view_count": null,
       "_view_module": "@jupyter-widgets/base",
       "_view_module_version": "1.2.0",
       "_view_name": "StyleView",
       "description_width": ""
      }
     },
     "6f794145184440b680fa284ef98ceca2": {
      "model_module": "@jupyter-widgets/controls",
      "model_module_version": "1.5.0",
      "model_name": "ProgressStyleModel",
      "state": {
       "_model_module": "@jupyter-widgets/controls",
       "_model_module_version": "1.5.0",
       "_model_name": "ProgressStyleModel",
       "_view_count": null,
       "_view_module": "@jupyter-widgets/base",
       "_view_module_version": "1.2.0",
       "_view_name": "StyleView",
       "bar_color": null,
       "description_width": ""
      }
     },
     "71270715acf247ea93e6b7cc2079a308": {
      "model_module": "@jupyter-widgets/controls",
      "model_module_version": "1.5.0",
      "model_name": "DescriptionStyleModel",
      "state": {
       "_model_module": "@jupyter-widgets/controls",
       "_model_module_version": "1.5.0",
       "_model_name": "DescriptionStyleModel",
       "_view_count": null,
       "_view_module": "@jupyter-widgets/base",
       "_view_module_version": "1.2.0",
       "_view_name": "StyleView",
       "description_width": ""
      }
     },
     "76131eb1aea6496399f96fce1fc94c48": {
      "model_module": "@jupyter-widgets/controls",
      "model_module_version": "1.5.0",
      "model_name": "HBoxModel",
      "state": {
       "_dom_classes": [],
       "_model_module": "@jupyter-widgets/controls",
       "_model_module_version": "1.5.0",
       "_model_name": "HBoxModel",
       "_view_count": null,
       "_view_module": "@jupyter-widgets/controls",
       "_view_module_version": "1.5.0",
       "_view_name": "HBoxView",
       "box_style": "",
       "children": [
        "IPY_MODEL_03f95cb754fc4596b4a3a750669cba85",
        "IPY_MODEL_1921f23a960848b7897f7bf50acb5731",
        "IPY_MODEL_cb1224af1a2f4b40ba0ca5662f1352df"
       ],
       "layout": "IPY_MODEL_b66e551d43f1446096384d215dfa9bbf"
      }
     },
     "8a0c442bdb304c11b5e0d3307ba58d72": {
      "model_module": "@jupyter-widgets/controls",
      "model_module_version": "1.5.0",
      "model_name": "HTMLModel",
      "state": {
       "_dom_classes": [],
       "_model_module": "@jupyter-widgets/controls",
       "_model_module_version": "1.5.0",
       "_model_name": "HTMLModel",
       "_view_count": null,
       "_view_module": "@jupyter-widgets/controls",
       "_view_module_version": "1.5.0",
       "_view_name": "HTMLView",
       "description": "",
       "description_tooltip": null,
       "layout": "IPY_MODEL_5dc8c81b92824528866f5a99ad265907",
       "placeholder": "​",
       "style": "IPY_MODEL_2a5ab49a6df64823b0883dc5bd06fb70",
       "value": " 232k/232k [00:00&lt;00:00, 4.02MB/s]"
      }
     },
     "8a98cd6254104ef1a2b809f7a1f728a3": {
      "model_module": "@jupyter-widgets/base",
      "model_module_version": "1.2.0",
      "model_name": "LayoutModel",
      "state": {
       "_model_module": "@jupyter-widgets/base",
       "_model_module_version": "1.2.0",
       "_model_name": "LayoutModel",
       "_view_count": null,
       "_view_module": "@jupyter-widgets/base",
       "_view_module_version": "1.2.0",
       "_view_name": "LayoutView",
       "align_content": null,
       "align_items": null,
       "align_self": null,
       "border": null,
       "bottom": null,
       "display": null,
       "flex": null,
       "flex_flow": null,
       "grid_area": null,
       "grid_auto_columns": null,
       "grid_auto_flow": null,
       "grid_auto_rows": null,
       "grid_column": null,
       "grid_gap": null,
       "grid_row": null,
       "grid_template_areas": null,
       "grid_template_columns": null,
       "grid_template_rows": null,
       "height": null,
       "justify_content": null,
       "justify_items": null,
       "left": null,
       "margin": null,
       "max_height": null,
       "max_width": null,
       "min_height": null,
       "min_width": null,
       "object_fit": null,
       "object_position": null,
       "order": null,
       "overflow": null,
       "overflow_x": null,
       "overflow_y": null,
       "padding": null,
       "right": null,
       "top": null,
       "visibility": null,
       "width": null
      }
     },
     "93b16daa1fa74084bcd1b89f6ac6fd8d": {
      "model_module": "@jupyter-widgets/controls",
      "model_module_version": "1.5.0",
      "model_name": "ProgressStyleModel",
      "state": {
       "_model_module": "@jupyter-widgets/controls",
       "_model_module_version": "1.5.0",
       "_model_name": "ProgressStyleModel",
       "_view_count": null,
       "_view_module": "@jupyter-widgets/base",
       "_view_module_version": "1.2.0",
       "_view_name": "StyleView",
       "bar_color": null,
       "description_width": ""
      }
     },
     "948f825db2c04363be87741957ee21db": {
      "model_module": "@jupyter-widgets/controls",
      "model_module_version": "1.5.0",
      "model_name": "HTMLModel",
      "state": {
       "_dom_classes": [],
       "_model_module": "@jupyter-widgets/controls",
       "_model_module_version": "1.5.0",
       "_model_name": "HTMLModel",
       "_view_count": null,
       "_view_module": "@jupyter-widgets/controls",
       "_view_module_version": "1.5.0",
       "_view_name": "HTMLView",
       "description": "",
       "description_tooltip": null,
       "layout": "IPY_MODEL_1c2113a50845402d89afb78818bc050e",
       "placeholder": "​",
       "style": "IPY_MODEL_5a2d3c2219c64d96b69bd5d7779c4672",
       "value": " 570/570 [00:00&lt;00:00, 38.8kB/s]"
      }
     },
     "a2503dc3793c494c97bbbe28ba810c7f": {
      "model_module": "@jupyter-widgets/controls",
      "model_module_version": "1.5.0",
      "model_name": "HTMLModel",
      "state": {
       "_dom_classes": [],
       "_model_module": "@jupyter-widgets/controls",
       "_model_module_version": "1.5.0",
       "_model_name": "HTMLModel",
       "_view_count": null,
       "_view_module": "@jupyter-widgets/controls",
       "_view_module_version": "1.5.0",
       "_view_name": "HTMLView",
       "description": "",
       "description_tooltip": null,
       "layout": "IPY_MODEL_38e75407756e487fa2c196720b337f74",
       "placeholder": "​",
       "style": "IPY_MODEL_5d0ff3235895462a82ac442413782f4e",
       "value": "vocab.txt: 100%"
      }
     },
     "a912702fa7494b6a8e6b69631a66d798": {
      "model_module": "@jupyter-widgets/controls",
      "model_module_version": "1.5.0",
      "model_name": "HTMLModel",
      "state": {
       "_dom_classes": [],
       "_model_module": "@jupyter-widgets/controls",
       "_model_module_version": "1.5.0",
       "_model_name": "HTMLModel",
       "_view_count": null,
       "_view_module": "@jupyter-widgets/controls",
       "_view_module_version": "1.5.0",
       "_view_name": "HTMLView",
       "description": "",
       "description_tooltip": null,
       "layout": "IPY_MODEL_f5bf791add914e37869014ab6bfd82c1",
       "placeholder": "​",
       "style": "IPY_MODEL_71270715acf247ea93e6b7cc2079a308",
       "value": "tokenizer.json: 100%"
      }
     },
     "a92ba54e480d4442b3fb05ab47203e99": {
      "model_module": "@jupyter-widgets/base",
      "model_module_version": "1.2.0",
      "model_name": "LayoutModel",
      "state": {
       "_model_module": "@jupyter-widgets/base",
       "_model_module_version": "1.2.0",
       "_model_name": "LayoutModel",
       "_view_count": null,
       "_view_module": "@jupyter-widgets/base",
       "_view_module_version": "1.2.0",
       "_view_name": "LayoutView",
       "align_content": null,
       "align_items": null,
       "align_self": null,
       "border": null,
       "bottom": null,
       "display": null,
       "flex": null,
       "flex_flow": null,
       "grid_area": null,
       "grid_auto_columns": null,
       "grid_auto_flow": null,
       "grid_auto_rows": null,
       "grid_column": null,
       "grid_gap": null,
       "grid_row": null,
       "grid_template_areas": null,
       "grid_template_columns": null,
       "grid_template_rows": null,
       "height": null,
       "justify_content": null,
       "justify_items": null,
       "left": null,
       "margin": null,
       "max_height": null,
       "max_width": null,
       "min_height": null,
       "min_width": null,
       "object_fit": null,
       "object_position": null,
       "order": null,
       "overflow": null,
       "overflow_x": null,
       "overflow_y": null,
       "padding": null,
       "right": null,
       "top": null,
       "visibility": null,
       "width": null
      }
     },
     "abf0be9bc134453095d151726790fabc": {
      "model_module": "@jupyter-widgets/controls",
      "model_module_version": "1.5.0",
      "model_name": "DescriptionStyleModel",
      "state": {
       "_model_module": "@jupyter-widgets/controls",
       "_model_module_version": "1.5.0",
       "_model_name": "DescriptionStyleModel",
       "_view_count": null,
       "_view_module": "@jupyter-widgets/base",
       "_view_module_version": "1.2.0",
       "_view_name": "StyleView",
       "description_width": ""
      }
     },
     "b0185c3767e146a7aaf519af49138255": {
      "model_module": "@jupyter-widgets/controls",
      "model_module_version": "1.5.0",
      "model_name": "DescriptionStyleModel",
      "state": {
       "_model_module": "@jupyter-widgets/controls",
       "_model_module_version": "1.5.0",
       "_model_name": "DescriptionStyleModel",
       "_view_count": null,
       "_view_module": "@jupyter-widgets/base",
       "_view_module_version": "1.2.0",
       "_view_name": "StyleView",
       "description_width": ""
      }
     },
     "b66e551d43f1446096384d215dfa9bbf": {
      "model_module": "@jupyter-widgets/base",
      "model_module_version": "1.2.0",
      "model_name": "LayoutModel",
      "state": {
       "_model_module": "@jupyter-widgets/base",
       "_model_module_version": "1.2.0",
       "_model_name": "LayoutModel",
       "_view_count": null,
       "_view_module": "@jupyter-widgets/base",
       "_view_module_version": "1.2.0",
       "_view_name": "LayoutView",
       "align_content": null,
       "align_items": null,
       "align_self": null,
       "border": null,
       "bottom": null,
       "display": null,
       "flex": null,
       "flex_flow": null,
       "grid_area": null,
       "grid_auto_columns": null,
       "grid_auto_flow": null,
       "grid_auto_rows": null,
       "grid_column": null,
       "grid_gap": null,
       "grid_row": null,
       "grid_template_areas": null,
       "grid_template_columns": null,
       "grid_template_rows": null,
       "height": null,
       "justify_content": null,
       "justify_items": null,
       "left": null,
       "margin": null,
       "max_height": null,
       "max_width": null,
       "min_height": null,
       "min_width": null,
       "object_fit": null,
       "object_position": null,
       "order": null,
       "overflow": null,
       "overflow_x": null,
       "overflow_y": null,
       "padding": null,
       "right": null,
       "top": null,
       "visibility": null,
       "width": null
      }
     },
     "ba028e93bc79411db699ea7a51fda4b0": {
      "model_module": "@jupyter-widgets/controls",
      "model_module_version": "1.5.0",
      "model_name": "HBoxModel",
      "state": {
       "_dom_classes": [],
       "_model_module": "@jupyter-widgets/controls",
       "_model_module_version": "1.5.0",
       "_model_name": "HBoxModel",
       "_view_count": null,
       "_view_module": "@jupyter-widgets/controls",
       "_view_module_version": "1.5.0",
       "_view_name": "HBoxView",
       "box_style": "",
       "children": [
        "IPY_MODEL_a912702fa7494b6a8e6b69631a66d798",
        "IPY_MODEL_50bb2e3d0c374dc08eeba5bf1485f664",
        "IPY_MODEL_63b2a90ca3a14c2aafd917ad01a57c75"
       ],
       "layout": "IPY_MODEL_a92ba54e480d4442b3fb05ab47203e99"
      }
     },
     "cb1224af1a2f4b40ba0ca5662f1352df": {
      "model_module": "@jupyter-widgets/controls",
      "model_module_version": "1.5.0",
      "model_name": "HTMLModel",
      "state": {
       "_dom_classes": [],
       "_model_module": "@jupyter-widgets/controls",
       "_model_module_version": "1.5.0",
       "_model_name": "HTMLModel",
       "_view_count": null,
       "_view_module": "@jupyter-widgets/controls",
       "_view_module_version": "1.5.0",
       "_view_name": "HTMLView",
       "description": "",
       "description_tooltip": null,
       "layout": "IPY_MODEL_66cc46a40cb7426b95b2cc796ab47ff6",
       "placeholder": "​",
       "style": "IPY_MODEL_6d440b650755409d863c9763821c9416",
       "value": " 48.0/48.0 [00:00&lt;00:00, 4.12kB/s]"
      }
     },
     "d919a9b02b8a48ab98e5eac1beb04c34": {
      "model_module": "@jupyter-widgets/base",
      "model_module_version": "1.2.0",
      "model_name": "LayoutModel",
      "state": {
       "_model_module": "@jupyter-widgets/base",
       "_model_module_version": "1.2.0",
       "_model_name": "LayoutModel",
       "_view_count": null,
       "_view_module": "@jupyter-widgets/base",
       "_view_module_version": "1.2.0",
       "_view_name": "LayoutView",
       "align_content": null,
       "align_items": null,
       "align_self": null,
       "border": null,
       "bottom": null,
       "display": null,
       "flex": null,
       "flex_flow": null,
       "grid_area": null,
       "grid_auto_columns": null,
       "grid_auto_flow": null,
       "grid_auto_rows": null,
       "grid_column": null,
       "grid_gap": null,
       "grid_row": null,
       "grid_template_areas": null,
       "grid_template_columns": null,
       "grid_template_rows": null,
       "height": null,
       "justify_content": null,
       "justify_items": null,
       "left": null,
       "margin": null,
       "max_height": null,
       "max_width": null,
       "min_height": null,
       "min_width": null,
       "object_fit": null,
       "object_position": null,
       "order": null,
       "overflow": null,
       "overflow_x": null,
       "overflow_y": null,
       "padding": null,
       "right": null,
       "top": null,
       "visibility": null,
       "width": null
      }
     },
     "dcedf5e3b37a437db48d27ca97df468b": {
      "model_module": "@jupyter-widgets/controls",
      "model_module_version": "1.5.0",
      "model_name": "DescriptionStyleModel",
      "state": {
       "_model_module": "@jupyter-widgets/controls",
       "_model_module_version": "1.5.0",
       "_model_name": "DescriptionStyleModel",
       "_view_count": null,
       "_view_module": "@jupyter-widgets/base",
       "_view_module_version": "1.2.0",
       "_view_name": "StyleView",
       "description_width": ""
      }
     },
     "e029547348f74eef8a944c32ddb277c6": {
      "model_module": "@jupyter-widgets/base",
      "model_module_version": "1.2.0",
      "model_name": "LayoutModel",
      "state": {
       "_model_module": "@jupyter-widgets/base",
       "_model_module_version": "1.2.0",
       "_model_name": "LayoutModel",
       "_view_count": null,
       "_view_module": "@jupyter-widgets/base",
       "_view_module_version": "1.2.0",
       "_view_name": "LayoutView",
       "align_content": null,
       "align_items": null,
       "align_self": null,
       "border": null,
       "bottom": null,
       "display": null,
       "flex": null,
       "flex_flow": null,
       "grid_area": null,
       "grid_auto_columns": null,
       "grid_auto_flow": null,
       "grid_auto_rows": null,
       "grid_column": null,
       "grid_gap": null,
       "grid_row": null,
       "grid_template_areas": null,
       "grid_template_columns": null,
       "grid_template_rows": null,
       "height": null,
       "justify_content": null,
       "justify_items": null,
       "left": null,
       "margin": null,
       "max_height": null,
       "max_width": null,
       "min_height": null,
       "min_width": null,
       "object_fit": null,
       "object_position": null,
       "order": null,
       "overflow": null,
       "overflow_x": null,
       "overflow_y": null,
       "padding": null,
       "right": null,
       "top": null,
       "visibility": null,
       "width": null
      }
     },
     "e9181ed9f803470485fdc236b1bf7273": {
      "model_module": "@jupyter-widgets/base",
      "model_module_version": "1.2.0",
      "model_name": "LayoutModel",
      "state": {
       "_model_module": "@jupyter-widgets/base",
       "_model_module_version": "1.2.0",
       "_model_name": "LayoutModel",
       "_view_count": null,
       "_view_module": "@jupyter-widgets/base",
       "_view_module_version": "1.2.0",
       "_view_name": "LayoutView",
       "align_content": null,
       "align_items": null,
       "align_self": null,
       "border": null,
       "bottom": null,
       "display": null,
       "flex": null,
       "flex_flow": null,
       "grid_area": null,
       "grid_auto_columns": null,
       "grid_auto_flow": null,
       "grid_auto_rows": null,
       "grid_column": null,
       "grid_gap": null,
       "grid_row": null,
       "grid_template_areas": null,
       "grid_template_columns": null,
       "grid_template_rows": null,
       "height": null,
       "justify_content": null,
       "justify_items": null,
       "left": null,
       "margin": null,
       "max_height": null,
       "max_width": null,
       "min_height": null,
       "min_width": null,
       "object_fit": null,
       "object_position": null,
       "order": null,
       "overflow": null,
       "overflow_x": null,
       "overflow_y": null,
       "padding": null,
       "right": null,
       "top": null,
       "visibility": null,
       "width": null
      }
     },
     "f3c3ebdffa09448ab4427f1e43579934": {
      "model_module": "@jupyter-widgets/controls",
      "model_module_version": "1.5.0",
      "model_name": "DescriptionStyleModel",
      "state": {
       "_model_module": "@jupyter-widgets/controls",
       "_model_module_version": "1.5.0",
       "_model_name": "DescriptionStyleModel",
       "_view_count": null,
       "_view_module": "@jupyter-widgets/base",
       "_view_module_version": "1.2.0",
       "_view_name": "StyleView",
       "description_width": ""
      }
     },
     "f5bf791add914e37869014ab6bfd82c1": {
      "model_module": "@jupyter-widgets/base",
      "model_module_version": "1.2.0",
      "model_name": "LayoutModel",
      "state": {
       "_model_module": "@jupyter-widgets/base",
       "_model_module_version": "1.2.0",
       "_model_name": "LayoutModel",
       "_view_count": null,
       "_view_module": "@jupyter-widgets/base",
       "_view_module_version": "1.2.0",
       "_view_name": "LayoutView",
       "align_content": null,
       "align_items": null,
       "align_self": null,
       "border": null,
       "bottom": null,
       "display": null,
       "flex": null,
       "flex_flow": null,
       "grid_area": null,
       "grid_auto_columns": null,
       "grid_auto_flow": null,
       "grid_auto_rows": null,
       "grid_column": null,
       "grid_gap": null,
       "grid_row": null,
       "grid_template_areas": null,
       "grid_template_columns": null,
       "grid_template_rows": null,
       "height": null,
       "justify_content": null,
       "justify_items": null,
       "left": null,
       "margin": null,
       "max_height": null,
       "max_width": null,
       "min_height": null,
       "min_width": null,
       "object_fit": null,
       "object_position": null,
       "order": null,
       "overflow": null,
       "overflow_x": null,
       "overflow_y": null,
       "padding": null,
       "right": null,
       "top": null,
       "visibility": null,
       "width": null
      }
     },
     "fc8154a62739469695e3a1c7ff696443": {
      "model_module": "@jupyter-widgets/base",
      "model_module_version": "1.2.0",
      "model_name": "LayoutModel",
      "state": {
       "_model_module": "@jupyter-widgets/base",
       "_model_module_version": "1.2.0",
       "_model_name": "LayoutModel",
       "_view_count": null,
       "_view_module": "@jupyter-widgets/base",
       "_view_module_version": "1.2.0",
       "_view_name": "LayoutView",
       "align_content": null,
       "align_items": null,
       "align_self": null,
       "border": null,
       "bottom": null,
       "display": null,
       "flex": null,
       "flex_flow": null,
       "grid_area": null,
       "grid_auto_columns": null,
       "grid_auto_flow": null,
       "grid_auto_rows": null,
       "grid_column": null,
       "grid_gap": null,
       "grid_row": null,
       "grid_template_areas": null,
       "grid_template_columns": null,
       "grid_template_rows": null,
       "height": null,
       "justify_content": null,
       "justify_items": null,
       "left": null,
       "margin": null,
       "max_height": null,
       "max_width": null,
       "min_height": null,
       "min_width": null,
       "object_fit": null,
       "object_position": null,
       "order": null,
       "overflow": null,
       "overflow_x": null,
       "overflow_y": null,
       "padding": null,
       "right": null,
       "top": null,
       "visibility": null,
       "width": null
      }
     },
     "fe7175d6f5d64068a5020007324680bf": {
      "model_module": "@jupyter-widgets/controls",
      "model_module_version": "1.5.0",
      "model_name": "FloatProgressModel",
      "state": {
       "_dom_classes": [],
       "_model_module": "@jupyter-widgets/controls",
       "_model_module_version": "1.5.0",
       "_model_name": "FloatProgressModel",
       "_view_count": null,
       "_view_module": "@jupyter-widgets/controls",
       "_view_module_version": "1.5.0",
       "_view_name": "ProgressView",
       "bar_style": "success",
       "description": "",
       "description_tooltip": null,
       "layout": "IPY_MODEL_498caba0dc9449f5a2ca68bc39aaaab4",
       "max": 231508.0,
       "min": 0.0,
       "orientation": "horizontal",
       "style": "IPY_MODEL_19238d8576b64b6a98f977da1b976471",
       "value": 231508.0
      }
     }
    },
    "version_major": 2,
    "version_minor": 0
   }
  }
 },
 "nbformat": 4,
 "nbformat_minor": 5
}
